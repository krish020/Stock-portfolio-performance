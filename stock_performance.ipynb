{
 "cells": [
  {
   "cell_type": "markdown",
   "metadata": {
    "id": "6NBesjUxPGU-"
   },
   "source": [
    "# ~MegaMachine~\n",
    "\n",
    "**Copyright@~MEGAMACHINE~**; \n",
    "\n",
    "Licensed under the Apache License, Version 2.0 (the \"License\");\n",
    "you may not use this file except in compliance with the License. You may obtain a copy of the License at https://www.apache.org/licenses/LICENSE-2.0. Unless required by applicable law or agreed to in writing, software\n",
    "distributed under the License is distributed on an \"AS IS\" BASIS,\n",
    "WITHOUT WARRANTIES OR CONDITIONS OF ANY KIND, either express or implied.\n",
    "See the License for the specific language governing permissions and\n",
    "limitations under the License.\n",
    "\n",
    "**Disclosure: User investments are subjected to market ricks. Nothing in this lecture should be considered as investment advice. Past performance is not necessarily indicative of future returns. Stock portfolio dataset in this lecture is only taken as the general example to show, how one can do data analysis using pandas (in python). I AM NOT REPOSIBLE FOR YOUR ANY KIND OF LOSS/PROFIT ON YOUR STOCKS RETURNS. Consider a financial adviser before investing or invest at your own risk.**"
   ]
  },
  {
   "cell_type": "code",
   "execution_count": 3,
   "metadata": {},
   "outputs": [
    {
     "name": "stdout",
     "output_type": "stream",
     "text": [
      "Collecting matplotlib"
     ]
    },
    {
     "name": "stderr",
     "output_type": "stream",
     "text": [
      "WARNING: You are using pip version 21.0.1; however, version 21.3.1 is available.\n",
      "You should consider upgrading via the 'c:\\users\\ankit.k\\appdata\\local\\programs\\python\\python38\\python.exe -m pip install --upgrade pip' command.\n"
     ]
    },
    {
     "name": "stdout",
     "output_type": "stream",
     "text": [
      "\n",
      "  Downloading matplotlib-3.5.1-cp38-cp38-win_amd64.whl (7.2 MB)\n",
      "Requirement already satisfied: packaging>=20.0 in c:\\users\\ankit.k\\appdata\\local\\programs\\python\\python38\\lib\\site-packages (from matplotlib) (20.9)\n",
      "Collecting cycler>=0.10\n",
      "  Downloading cycler-0.11.0-py3-none-any.whl (6.4 kB)\n",
      "Requirement already satisfied: pyparsing>=2.2.1 in c:\\users\\ankit.k\\appdata\\local\\programs\\python\\python38\\lib\\site-packages (from matplotlib) (2.4.7)\n",
      "Requirement already satisfied: python-dateutil>=2.7 in c:\\users\\ankit.k\\appdata\\local\\programs\\python\\python38\\lib\\site-packages (from matplotlib) (2.8.1)\n",
      "Collecting pillow>=6.2.0\n",
      "  Downloading Pillow-8.4.0-cp38-cp38-win_amd64.whl (3.2 MB)\n",
      "Collecting kiwisolver>=1.0.1\n",
      "  Downloading kiwisolver-1.3.2-cp38-cp38-win_amd64.whl (52 kB)\n",
      "Requirement already satisfied: numpy>=1.17 in c:\\users\\ankit.k\\appdata\\local\\programs\\python\\python38\\lib\\site-packages (from matplotlib) (1.20.1)\n",
      "Collecting fonttools>=4.22.0\n",
      "  Downloading fonttools-4.28.4-py3-none-any.whl (885 kB)\n",
      "Requirement already satisfied: six>=1.5 in c:\\users\\ankit.k\\appdata\\local\\programs\\python\\python38\\lib\\site-packages (from python-dateutil>=2.7->matplotlib) (1.15.0)\n",
      "Installing collected packages: pillow, kiwisolver, fonttools, cycler, matplotlib\n",
      "Successfully installed cycler-0.11.0 fonttools-4.28.4 kiwisolver-1.3.2 matplotlib-3.5.1 pillow-8.4.0\n"
     ]
    }
   ],
   "source": [
    "!pip install matplotlib"
   ]
  },
  {
   "cell_type": "code",
   "execution_count": 2,
   "metadata": {
    "colab": {
     "base_uri": "https://localhost:8080/"
    },
    "executionInfo": {
     "elapsed": 691,
     "status": "ok",
     "timestamp": 1623594939816,
     "user": {
      "displayName": "Clash Clans",
      "photoUrl": "",
      "userId": "00562530571182710236"
     },
     "user_tz": -330
    },
    "id": "ZyXksMeROxcO",
    "outputId": "3ab33eee-d831-43df-de49-55f2079326d8"
   },
   "outputs": [
    {
     "name": "stdout",
     "output_type": "stream",
     "text": [
      "Python 3.8.7\n",
      "numpy version: 1.20.1\n",
      "pandas version:  1.0.3\n"
     ]
    }
   ],
   "source": [
    "!python --version   # Python version\n",
    "\n",
    "# About python:  https://www.python.org/\n",
    "#                Python is powerful... and fast; plays well with others; runs everywhere; is friendly & easy to learn; \n",
    "#                is Open –> https://www.python.org/about/.\n",
    "#     Python docs: https://docs.python.org/3/ (all documentation); \n",
    "#                  https://docs.python.org/3.7/ (Recommended version – 3.7). \n",
    "# The Python Tutorial (python3.7): https://docs.python.org/3.7/tutorial/index.html \n",
    "\n",
    "# Load Module ---\n",
    "import numpy as np, pandas as pd, matplotlib.pyplot as plt\n",
    "# NumPy : The fundamental package for scientific computing with Python. NumPy is the fundamental package for scientific \n",
    "#         computing in Python. It is a Python library that provides a multidimensional array object, various derived \n",
    "#         objects (such as masked arrays and matrices), and an assortment of routines for fast operations on arrays, \n",
    "#         including mathematical, logical, shape manipulation, sorting, selecting, I/O, discrete Fourier transforms,\n",
    "#         basic linear algebra, basic statistical operations, random simulation and much more.\n",
    "#     About: https://numpy.org/\n",
    "#     Docs: https://numpy.org/doc/stable/\n",
    "#     NumPy quickstart: https://numpy.org/doc/stable/user/quickstart.html\n",
    "\n",
    "# Pandas: pandas is a fast, powerful, flexible and easy to use open source data analysis and manipulation tool, \n",
    "#         built on top of the Python programming language.\n",
    "#     About: https://pandas.pydata.org/ \n",
    "#     Docs: https://pandas.pydata.org/docs/ \n",
    "#     Getting started: https://pandas.pydata.org/docs/getting_started/index.html \n",
    "#     User Guide: https://pandas.pydata.org/docs/user_guide/index.html#user-guide \n",
    "\n",
    "print('numpy version:',np.__version__)\n",
    "print('pandas version: ',pd.__version__)\n",
    "\n",
    "# column dict \n",
    "column_dict={'ID':'id',\n",
    "             ' Large B/P ':'bp_large',\n",
    "             ' Large ROE ':'roe_large',\n",
    "             ' Large S/P ':'sp_large',\n",
    "             ' Large Return Rate in the last quarter ':'ror_large_last_quarter',\n",
    "             ' Large Market Value ':'mv_large',\n",
    "             ' Small systematic Risk':'systematic_risk_small',\n",
    "             'Annual Return':'annual_return',\n",
    "             'Excess Return':'excess_return',\n",
    "             'Systematic Risk':'systemtic_risk_actual',\n",
    "             'Total Risk':'total_risk',\n",
    "             'Abs. Win Rate':'abs_win_rate',\n",
    "             'Rel. Win Rate':'relative_win_rate',\n",
    "             'Annual Return.1':'annual_return_norm',\n",
    "             'Excess Return.1':'excess_return_norm',\n",
    "             'Systematic Risk.1':'systemtic_risk_actual_norm',\n",
    "             'Total Risk.1':'total_risk_norm',\n",
    "             'Abs. Win Rate.1':'abs_win_rate_norm',\n",
    "             'Rel. Win Rate.1':'relative_win_rate_norm'}\n",
    "# sort by key dict\n",
    "#sorted(column_dict.items(), key=lambda kv: column_dict[kv[0]])\n",
    "# key by value - example 'bp_large'\n",
    "#[k for k,v in column_dict.items() if v == 'bp_large']\n",
    "\n",
    "# MultiIndex\n",
    "mId=pd.IndexSlice"
   ]
  },
  {
   "cell_type": "markdown",
   "metadata": {
    "id": "e-A_8SdqPUdr"
   },
   "source": [
    "# Loading data - Stock Portfolio Performance\n",
    "\n",
    "The dataset of performances of weighted scoring stock portfolios are obtained with mixture design from the US stock market historical database.\n",
    "\n",
    "Dataset source (UCI Machine Learning Repository): https://archive.ics.uci.edu/ml/datasets/Stock+portfolio+performance\n",
    "\n",
    "Dataset download link: stock portfolio performance data set.xlsx"
   ]
  },
  {
   "cell_type": "code",
   "execution_count": 3,
   "metadata": {
    "colab": {
     "base_uri": "https://localhost:8080/",
     "height": 163
    },
    "executionInfo": {
     "elapsed": 2984,
     "status": "ok",
     "timestamp": 1623594947793,
     "user": {
      "displayName": "Clash Clans",
      "photoUrl": "",
      "userId": "00562530571182710236"
     },
     "user_tz": -330
    },
    "id": "_jLwaIRvPSxB",
    "outputId": "f6ad9f68-56cf-4e6f-d6ca-e0d87c1f8290"
   },
   "outputs": [],
   "source": [
    "# Read all sheets \n",
    "total_sheets=6\n",
    "\n",
    "#!wget https://archive.ics.uci.edu/ml/machine-learning-databases/00390/stock%20portfolio%20performance%20data%20set.xlsx\n",
    "data_file_link_xlsx='https://archive.ics.uci.edu/ml/machine-learning-databases/00390/stock%20portfolio%20performance%20data%20set.xlsx'\n",
    "\n",
    "# sheet list\n",
    "sheet_list=list()\n",
    "\n",
    "for sheet in range(total_sheets-1):\n",
    "  # Read dataset \n",
    "  sheet_list.append(pd.read_excel(data_file_link_xlsx,sheet_name=sheet,header=1))\n",
    "\n"
   ]
  },
  {
   "cell_type": "code",
   "execution_count": 5,
   "metadata": {},
   "outputs": [
    {
     "data": {
      "text/html": [
       "<div>\n",
       "<style scoped>\n",
       "    .dataframe tbody tr th:only-of-type {\n",
       "        vertical-align: middle;\n",
       "    }\n",
       "\n",
       "    .dataframe tbody tr th {\n",
       "        vertical-align: top;\n",
       "    }\n",
       "\n",
       "    .dataframe thead th {\n",
       "        text-align: right;\n",
       "    }\n",
       "</style>\n",
       "<table border=\"1\" class=\"dataframe\">\n",
       "  <thead>\n",
       "    <tr style=\"text-align: right;\">\n",
       "      <th></th>\n",
       "      <th></th>\n",
       "      <th>id</th>\n",
       "      <th>bp_large</th>\n",
       "      <th>roe_large</th>\n",
       "      <th>sp_large</th>\n",
       "      <th>ror_large_last_quarter</th>\n",
       "      <th>mv_large</th>\n",
       "      <th>systematic_risk_small</th>\n",
       "      <th>annual_return</th>\n",
       "      <th>excess_return</th>\n",
       "      <th>systemtic_risk_actual</th>\n",
       "      <th>total_risk</th>\n",
       "      <th>abs_win_rate</th>\n",
       "      <th>relative_win_rate</th>\n",
       "      <th>annual_return_norm</th>\n",
       "      <th>excess_return_norm</th>\n",
       "      <th>systemtic_risk_actual_norm</th>\n",
       "      <th>total_risk_norm</th>\n",
       "      <th>abs_win_rate_norm</th>\n",
       "      <th>relative_win_rate_norm</th>\n",
       "    </tr>\n",
       "  </thead>\n",
       "  <tbody>\n",
       "    <tr>\n",
       "      <th rowspan=\"5\" valign=\"top\">sheet_0</th>\n",
       "      <th>0</th>\n",
       "      <td>1</td>\n",
       "      <td>1.000</td>\n",
       "      <td>0.000</td>\n",
       "      <td>0.000</td>\n",
       "      <td>0.000</td>\n",
       "      <td>0.000</td>\n",
       "      <td>0.000</td>\n",
       "      <td>0.019516</td>\n",
       "      <td>0.013399</td>\n",
       "      <td>1.902608</td>\n",
       "      <td>0.218617</td>\n",
       "      <td>0.600</td>\n",
       "      <td>0.400</td>\n",
       "      <td>0.488229</td>\n",
       "      <td>0.609445</td>\n",
       "      <td>0.780756</td>\n",
       "      <td>0.800000</td>\n",
       "      <td>0.68</td>\n",
       "      <td>0.333333</td>\n",
       "    </tr>\n",
       "    <tr>\n",
       "      <th>1</th>\n",
       "      <td>2</td>\n",
       "      <td>0.000</td>\n",
       "      <td>1.000</td>\n",
       "      <td>0.000</td>\n",
       "      <td>0.000</td>\n",
       "      <td>0.000</td>\n",
       "      <td>0.000</td>\n",
       "      <td>0.023829</td>\n",
       "      <td>0.006410</td>\n",
       "      <td>1.263287</td>\n",
       "      <td>0.128740</td>\n",
       "      <td>0.550</td>\n",
       "      <td>0.650</td>\n",
       "      <td>0.505279</td>\n",
       "      <td>0.508169</td>\n",
       "      <td>0.443776</td>\n",
       "      <td>0.414220</td>\n",
       "      <td>0.56</td>\n",
       "      <td>0.666667</td>\n",
       "    </tr>\n",
       "    <tr>\n",
       "      <th>2</th>\n",
       "      <td>3</td>\n",
       "      <td>0.000</td>\n",
       "      <td>0.000</td>\n",
       "      <td>1.000</td>\n",
       "      <td>0.000</td>\n",
       "      <td>0.000</td>\n",
       "      <td>0.000</td>\n",
       "      <td>0.080282</td>\n",
       "      <td>0.026548</td>\n",
       "      <td>1.894339</td>\n",
       "      <td>0.208272</td>\n",
       "      <td>0.550</td>\n",
       "      <td>0.500</td>\n",
       "      <td>0.728484</td>\n",
       "      <td>0.800000</td>\n",
       "      <td>0.776397</td>\n",
       "      <td>0.755594</td>\n",
       "      <td>0.56</td>\n",
       "      <td>0.466667</td>\n",
       "    </tr>\n",
       "    <tr>\n",
       "      <th>3</th>\n",
       "      <td>4</td>\n",
       "      <td>0.000</td>\n",
       "      <td>0.000</td>\n",
       "      <td>0.000</td>\n",
       "      <td>1.000</td>\n",
       "      <td>0.000</td>\n",
       "      <td>0.000</td>\n",
       "      <td>-0.006683</td>\n",
       "      <td>0.000728</td>\n",
       "      <td>1.425454</td>\n",
       "      <td>0.155526</td>\n",
       "      <td>0.550</td>\n",
       "      <td>0.350</td>\n",
       "      <td>0.384640</td>\n",
       "      <td>0.425836</td>\n",
       "      <td>0.529253</td>\n",
       "      <td>0.529196</td>\n",
       "      <td>0.56</td>\n",
       "      <td>0.266667</td>\n",
       "    </tr>\n",
       "    <tr>\n",
       "      <th>4</th>\n",
       "      <td>5</td>\n",
       "      <td>0.000</td>\n",
       "      <td>0.000</td>\n",
       "      <td>0.000</td>\n",
       "      <td>0.000</td>\n",
       "      <td>1.000</td>\n",
       "      <td>0.000</td>\n",
       "      <td>0.021999</td>\n",
       "      <td>0.004407</td>\n",
       "      <td>1.094579</td>\n",
       "      <td>0.106729</td>\n",
       "      <td>0.650</td>\n",
       "      <td>0.700</td>\n",
       "      <td>0.498046</td>\n",
       "      <td>0.479146</td>\n",
       "      <td>0.354852</td>\n",
       "      <td>0.319743</td>\n",
       "      <td>0.80</td>\n",
       "      <td>0.733333</td>\n",
       "    </tr>\n",
       "    <tr>\n",
       "      <th>...</th>\n",
       "      <th>...</th>\n",
       "      <td>...</td>\n",
       "      <td>...</td>\n",
       "      <td>...</td>\n",
       "      <td>...</td>\n",
       "      <td>...</td>\n",
       "      <td>...</td>\n",
       "      <td>...</td>\n",
       "      <td>...</td>\n",
       "      <td>...</td>\n",
       "      <td>...</td>\n",
       "      <td>...</td>\n",
       "      <td>...</td>\n",
       "      <td>...</td>\n",
       "      <td>...</td>\n",
       "      <td>...</td>\n",
       "      <td>...</td>\n",
       "      <td>...</td>\n",
       "      <td>...</td>\n",
       "      <td>...</td>\n",
       "    </tr>\n",
       "    <tr>\n",
       "      <th rowspan=\"5\" valign=\"top\">sheet_4</th>\n",
       "      <th>58</th>\n",
       "      <td>59</td>\n",
       "      <td>0.200</td>\n",
       "      <td>0.200</td>\n",
       "      <td>0.200</td>\n",
       "      <td>0.000</td>\n",
       "      <td>0.200</td>\n",
       "      <td>0.200</td>\n",
       "      <td>0.171000</td>\n",
       "      <td>0.022000</td>\n",
       "      <td>0.940000</td>\n",
       "      <td>0.100000</td>\n",
       "      <td>0.700</td>\n",
       "      <td>0.638</td>\n",
       "      <td>0.685397</td>\n",
       "      <td>0.706792</td>\n",
       "      <td>0.322843</td>\n",
       "      <td>0.329431</td>\n",
       "      <td>0.64</td>\n",
       "      <td>0.729412</td>\n",
       "    </tr>\n",
       "    <tr>\n",
       "      <th>59</th>\n",
       "      <td>60</td>\n",
       "      <td>0.200</td>\n",
       "      <td>0.200</td>\n",
       "      <td>0.000</td>\n",
       "      <td>0.200</td>\n",
       "      <td>0.200</td>\n",
       "      <td>0.200</td>\n",
       "      <td>0.153000</td>\n",
       "      <td>0.018000</td>\n",
       "      <td>0.880000</td>\n",
       "      <td>0.087000</td>\n",
       "      <td>0.725</td>\n",
       "      <td>0.638</td>\n",
       "      <td>0.595786</td>\n",
       "      <td>0.631599</td>\n",
       "      <td>0.259952</td>\n",
       "      <td>0.204156</td>\n",
       "      <td>0.72</td>\n",
       "      <td>0.729412</td>\n",
       "    </tr>\n",
       "    <tr>\n",
       "      <th>60</th>\n",
       "      <td>61</td>\n",
       "      <td>0.200</td>\n",
       "      <td>0.000</td>\n",
       "      <td>0.200</td>\n",
       "      <td>0.200</td>\n",
       "      <td>0.200</td>\n",
       "      <td>0.200</td>\n",
       "      <td>0.156000</td>\n",
       "      <td>0.018000</td>\n",
       "      <td>0.970000</td>\n",
       "      <td>0.104000</td>\n",
       "      <td>0.663</td>\n",
       "      <td>0.525</td>\n",
       "      <td>0.612546</td>\n",
       "      <td>0.631119</td>\n",
       "      <td>0.359730</td>\n",
       "      <td>0.368958</td>\n",
       "      <td>0.52</td>\n",
       "      <td>0.411765</td>\n",
       "    </tr>\n",
       "    <tr>\n",
       "      <th>61</th>\n",
       "      <td>62</td>\n",
       "      <td>0.000</td>\n",
       "      <td>0.200</td>\n",
       "      <td>0.200</td>\n",
       "      <td>0.200</td>\n",
       "      <td>0.200</td>\n",
       "      <td>0.200</td>\n",
       "      <td>0.161000</td>\n",
       "      <td>0.018000</td>\n",
       "      <td>0.980000</td>\n",
       "      <td>0.094000</td>\n",
       "      <td>0.688</td>\n",
       "      <td>0.663</td>\n",
       "      <td>0.635785</td>\n",
       "      <td>0.634402</td>\n",
       "      <td>0.362039</td>\n",
       "      <td>0.277221</td>\n",
       "      <td>0.60</td>\n",
       "      <td>0.800000</td>\n",
       "    </tr>\n",
       "    <tr>\n",
       "      <th>62</th>\n",
       "      <td>63</td>\n",
       "      <td>0.167</td>\n",
       "      <td>0.167</td>\n",
       "      <td>0.167</td>\n",
       "      <td>0.167</td>\n",
       "      <td>0.167</td>\n",
       "      <td>0.167</td>\n",
       "      <td>0.173000</td>\n",
       "      <td>0.022000</td>\n",
       "      <td>0.910000</td>\n",
       "      <td>0.095000</td>\n",
       "      <td>0.713</td>\n",
       "      <td>0.663</td>\n",
       "      <td>0.692692</td>\n",
       "      <td>0.716476</td>\n",
       "      <td>0.296074</td>\n",
       "      <td>0.284923</td>\n",
       "      <td>0.68</td>\n",
       "      <td>0.800000</td>\n",
       "    </tr>\n",
       "  </tbody>\n",
       "</table>\n",
       "<p>315 rows × 19 columns</p>\n",
       "</div>"
      ],
      "text/plain": [
       "            id  bp_large  roe_large  sp_large  ror_large_last_quarter  \\\n",
       "sheet_0 0    1     1.000      0.000     0.000                   0.000   \n",
       "        1    2     0.000      1.000     0.000                   0.000   \n",
       "        2    3     0.000      0.000     1.000                   0.000   \n",
       "        3    4     0.000      0.000     0.000                   1.000   \n",
       "        4    5     0.000      0.000     0.000                   0.000   \n",
       "...         ..       ...        ...       ...                     ...   \n",
       "sheet_4 58  59     0.200      0.200     0.200                   0.000   \n",
       "        59  60     0.200      0.200     0.000                   0.200   \n",
       "        60  61     0.200      0.000     0.200                   0.200   \n",
       "        61  62     0.000      0.200     0.200                   0.200   \n",
       "        62  63     0.167      0.167     0.167                   0.167   \n",
       "\n",
       "            mv_large  systematic_risk_small  annual_return  excess_return  \\\n",
       "sheet_0 0      0.000                  0.000       0.019516       0.013399   \n",
       "        1      0.000                  0.000       0.023829       0.006410   \n",
       "        2      0.000                  0.000       0.080282       0.026548   \n",
       "        3      0.000                  0.000      -0.006683       0.000728   \n",
       "        4      1.000                  0.000       0.021999       0.004407   \n",
       "...              ...                    ...            ...            ...   \n",
       "sheet_4 58     0.200                  0.200       0.171000       0.022000   \n",
       "        59     0.200                  0.200       0.153000       0.018000   \n",
       "        60     0.200                  0.200       0.156000       0.018000   \n",
       "        61     0.200                  0.200       0.161000       0.018000   \n",
       "        62     0.167                  0.167       0.173000       0.022000   \n",
       "\n",
       "            systemtic_risk_actual  total_risk  abs_win_rate  \\\n",
       "sheet_0 0                1.902608    0.218617         0.600   \n",
       "        1                1.263287    0.128740         0.550   \n",
       "        2                1.894339    0.208272         0.550   \n",
       "        3                1.425454    0.155526         0.550   \n",
       "        4                1.094579    0.106729         0.650   \n",
       "...                           ...         ...           ...   \n",
       "sheet_4 58               0.940000    0.100000         0.700   \n",
       "        59               0.880000    0.087000         0.725   \n",
       "        60               0.970000    0.104000         0.663   \n",
       "        61               0.980000    0.094000         0.688   \n",
       "        62               0.910000    0.095000         0.713   \n",
       "\n",
       "            relative_win_rate  annual_return_norm  excess_return_norm  \\\n",
       "sheet_0 0               0.400            0.488229            0.609445   \n",
       "        1               0.650            0.505279            0.508169   \n",
       "        2               0.500            0.728484            0.800000   \n",
       "        3               0.350            0.384640            0.425836   \n",
       "        4               0.700            0.498046            0.479146   \n",
       "...                       ...                 ...                 ...   \n",
       "sheet_4 58              0.638            0.685397            0.706792   \n",
       "        59              0.638            0.595786            0.631599   \n",
       "        60              0.525            0.612546            0.631119   \n",
       "        61              0.663            0.635785            0.634402   \n",
       "        62              0.663            0.692692            0.716476   \n",
       "\n",
       "            systemtic_risk_actual_norm  total_risk_norm  abs_win_rate_norm  \\\n",
       "sheet_0 0                     0.780756         0.800000               0.68   \n",
       "        1                     0.443776         0.414220               0.56   \n",
       "        2                     0.776397         0.755594               0.56   \n",
       "        3                     0.529253         0.529196               0.56   \n",
       "        4                     0.354852         0.319743               0.80   \n",
       "...                                ...              ...                ...   \n",
       "sheet_4 58                    0.322843         0.329431               0.64   \n",
       "        59                    0.259952         0.204156               0.72   \n",
       "        60                    0.359730         0.368958               0.52   \n",
       "        61                    0.362039         0.277221               0.60   \n",
       "        62                    0.296074         0.284923               0.68   \n",
       "\n",
       "            relative_win_rate_norm  \n",
       "sheet_0 0                 0.333333  \n",
       "        1                 0.666667  \n",
       "        2                 0.466667  \n",
       "        3                 0.266667  \n",
       "        4                 0.733333  \n",
       "...                            ...  \n",
       "sheet_4 58                0.729412  \n",
       "        59                0.729412  \n",
       "        60                0.411765  \n",
       "        61                0.800000  \n",
       "        62                0.800000  \n",
       "\n",
       "[315 rows x 19 columns]"
      ]
     },
     "execution_count": 5,
     "metadata": {},
     "output_type": "execute_result"
    }
   ],
   "source": [
    "# 3d dataframe \n",
    "data3d=pd.concat(sheet_list,axis=0,keys=['sheet_'+str(sheet) for sheet in range(total_sheets)])\n",
    "# rename columns \n",
    "data3d.rename(index=None,columns=column_dict,axis=None,copy=True,inplace=True)\n",
    "# see\n",
    "data3d#[data3d['annual_return'] == 0.531874802303275]"
   ]
  },
  {
   "cell_type": "markdown",
   "metadata": {
    "id": "mTO6DRftgMkn"
   },
   "source": [
    "### long term "
   ]
  },
  {
   "cell_type": "code",
   "execution_count": 6,
   "metadata": {
    "colab": {
     "base_uri": "https://localhost:8080/",
     "height": 199
    },
    "executionInfo": {
     "elapsed": 391,
     "status": "ok",
     "timestamp": 1623595055084,
     "user": {
      "displayName": "Clash Clans",
      "photoUrl": "",
      "userId": "00562530571182710236"
     },
     "user_tz": -330
    },
    "id": "wjrUq85cbEFw",
    "outputId": "79ff3b26-ca5c-4ebd-8c8b-2f9986b13870"
   },
   "outputs": [
    {
     "name": "stdout",
     "output_type": "stream",
     "text": [
      "worse_three [ 6 41 16]\n",
      "best_three [ 7 22 42]\n"
     ]
    },
    {
     "data": {
      "text/html": [
       "<div>\n",
       "<style scoped>\n",
       "    .dataframe tbody tr th:only-of-type {\n",
       "        vertical-align: middle;\n",
       "    }\n",
       "\n",
       "    .dataframe tbody tr th {\n",
       "        vertical-align: top;\n",
       "    }\n",
       "\n",
       "    .dataframe thead th {\n",
       "        text-align: right;\n",
       "    }\n",
       "</style>\n",
       "<table border=\"1\" class=\"dataframe\">\n",
       "  <thead>\n",
       "    <tr style=\"text-align: right;\">\n",
       "      <th></th>\n",
       "      <th></th>\n",
       "      <th>id</th>\n",
       "      <th>bp_large</th>\n",
       "      <th>roe_large</th>\n",
       "      <th>sp_large</th>\n",
       "      <th>ror_large_last_quarter</th>\n",
       "      <th>mv_large</th>\n",
       "      <th>systematic_risk_small</th>\n",
       "      <th>annual_return</th>\n",
       "      <th>excess_return</th>\n",
       "      <th>systemtic_risk_actual</th>\n",
       "    </tr>\n",
       "  </thead>\n",
       "  <tbody>\n",
       "    <tr>\n",
       "      <th rowspan=\"3\" valign=\"top\">sheet_4</th>\n",
       "      <th>5</th>\n",
       "      <td>6</td>\n",
       "      <td>0.0</td>\n",
       "      <td>0.0</td>\n",
       "      <td>0.0</td>\n",
       "      <td>0.000</td>\n",
       "      <td>0.000</td>\n",
       "      <td>1.000</td>\n",
       "      <td>0.07</td>\n",
       "      <td>-0.005</td>\n",
       "      <td>1.10</td>\n",
       "    </tr>\n",
       "    <tr>\n",
       "      <th>15</th>\n",
       "      <td>16</td>\n",
       "      <td>0.0</td>\n",
       "      <td>0.0</td>\n",
       "      <td>0.0</td>\n",
       "      <td>0.500</td>\n",
       "      <td>0.500</td>\n",
       "      <td>0.000</td>\n",
       "      <td>0.09</td>\n",
       "      <td>-0.001</td>\n",
       "      <td>1.15</td>\n",
       "    </tr>\n",
       "    <tr>\n",
       "      <th>40</th>\n",
       "      <td>41</td>\n",
       "      <td>0.0</td>\n",
       "      <td>0.0</td>\n",
       "      <td>0.0</td>\n",
       "      <td>0.333</td>\n",
       "      <td>0.333</td>\n",
       "      <td>0.333</td>\n",
       "      <td>0.09</td>\n",
       "      <td>0.000</td>\n",
       "      <td>1.13</td>\n",
       "    </tr>\n",
       "  </tbody>\n",
       "</table>\n",
       "</div>"
      ],
      "text/plain": [
       "            id  bp_large  roe_large  sp_large  ror_large_last_quarter  \\\n",
       "sheet_4 5    6       0.0        0.0       0.0                   0.000   \n",
       "        15  16       0.0        0.0       0.0                   0.500   \n",
       "        40  41       0.0        0.0       0.0                   0.333   \n",
       "\n",
       "            mv_large  systematic_risk_small  annual_return  excess_return  \\\n",
       "sheet_4 5      0.000                  1.000           0.07         -0.005   \n",
       "        15     0.500                  0.000           0.09         -0.001   \n",
       "        40     0.333                  0.333           0.09          0.000   \n",
       "\n",
       "            systemtic_risk_actual  \n",
       "sheet_4 5                    1.10  \n",
       "        15                   1.15  \n",
       "        40                   1.13  "
      ]
     },
     "execution_count": 6,
     "metadata": {},
     "output_type": "execute_result"
    }
   ],
   "source": [
    "# See down trends - top three from bottom \n",
    "ltm_worse_three_idx=data3d.loc['sheet_4'].sort_values('annual_return',ascending=True).index[:3]\n",
    "ltm_worse_three=data3d.loc['sheet_4'].sort_values('annual_return',ascending=True).id.values[:3]\n",
    "print('worse_three',ltm_worse_three)\n",
    "\n",
    "# See down trends - top three from top \n",
    "ltm_best_three_idx=data3d.loc['sheet_4'].sort_values('annual_return',ascending=False).index[:3]\n",
    "ltm_best_three=data3d.loc['sheet_4'].sort_values('annual_return',ascending=False).id.values[:3]\n",
    "print('best_three',ltm_best_three)\n",
    "\n",
    "data3d.loc[mId['sheet_4',ltm_worse_three_idx],data3d.columns[:10]]"
   ]
  },
  {
   "cell_type": "code",
   "execution_count": 7,
   "metadata": {
    "colab": {
     "base_uri": "https://localhost:8080/",
     "height": 163
    },
    "executionInfo": {
     "elapsed": 606,
     "status": "ok",
     "timestamp": 1623595078670,
     "user": {
      "displayName": "Clash Clans",
      "photoUrl": "",
      "userId": "00562530571182710236"
     },
     "user_tz": -330
    },
    "id": "rBPRDA9IdALY",
    "outputId": "c5db0484-2983-49fe-9565-4b20b52472fb"
   },
   "outputs": [
    {
     "data": {
      "text/html": [
       "<div>\n",
       "<style scoped>\n",
       "    .dataframe tbody tr th:only-of-type {\n",
       "        vertical-align: middle;\n",
       "    }\n",
       "\n",
       "    .dataframe tbody tr th {\n",
       "        vertical-align: top;\n",
       "    }\n",
       "\n",
       "    .dataframe thead th {\n",
       "        text-align: right;\n",
       "    }\n",
       "</style>\n",
       "<table border=\"1\" class=\"dataframe\">\n",
       "  <thead>\n",
       "    <tr style=\"text-align: right;\">\n",
       "      <th></th>\n",
       "      <th></th>\n",
       "      <th>id</th>\n",
       "      <th>bp_large</th>\n",
       "      <th>roe_large</th>\n",
       "      <th>sp_large</th>\n",
       "      <th>ror_large_last_quarter</th>\n",
       "      <th>mv_large</th>\n",
       "      <th>systematic_risk_small</th>\n",
       "      <th>annual_return</th>\n",
       "      <th>excess_return</th>\n",
       "      <th>systemtic_risk_actual</th>\n",
       "    </tr>\n",
       "  </thead>\n",
       "  <tbody>\n",
       "    <tr>\n",
       "      <th rowspan=\"3\" valign=\"top\">sheet_4</th>\n",
       "      <th>6</th>\n",
       "      <td>7</td>\n",
       "      <td>0.500</td>\n",
       "      <td>0.500</td>\n",
       "      <td>0.000</td>\n",
       "      <td>0.00</td>\n",
       "      <td>0.0</td>\n",
       "      <td>0.0</td>\n",
       "      <td>0.195</td>\n",
       "      <td>0.026</td>\n",
       "      <td>0.97</td>\n",
       "    </tr>\n",
       "    <tr>\n",
       "      <th>21</th>\n",
       "      <td>22</td>\n",
       "      <td>0.333</td>\n",
       "      <td>0.333</td>\n",
       "      <td>0.333</td>\n",
       "      <td>0.00</td>\n",
       "      <td>0.0</td>\n",
       "      <td>0.0</td>\n",
       "      <td>0.192</td>\n",
       "      <td>0.024</td>\n",
       "      <td>1.08</td>\n",
       "    </tr>\n",
       "    <tr>\n",
       "      <th>41</th>\n",
       "      <td>42</td>\n",
       "      <td>0.250</td>\n",
       "      <td>0.250</td>\n",
       "      <td>0.250</td>\n",
       "      <td>0.25</td>\n",
       "      <td>0.0</td>\n",
       "      <td>0.0</td>\n",
       "      <td>0.191</td>\n",
       "      <td>0.024</td>\n",
       "      <td>1.06</td>\n",
       "    </tr>\n",
       "  </tbody>\n",
       "</table>\n",
       "</div>"
      ],
      "text/plain": [
       "            id  bp_large  roe_large  sp_large  ror_large_last_quarter  \\\n",
       "sheet_4 6    7     0.500      0.500     0.000                    0.00   \n",
       "        21  22     0.333      0.333     0.333                    0.00   \n",
       "        41  42     0.250      0.250     0.250                    0.25   \n",
       "\n",
       "            mv_large  systematic_risk_small  annual_return  excess_return  \\\n",
       "sheet_4 6        0.0                    0.0          0.195          0.026   \n",
       "        21       0.0                    0.0          0.192          0.024   \n",
       "        41       0.0                    0.0          0.191          0.024   \n",
       "\n",
       "            systemtic_risk_actual  \n",
       "sheet_4 6                    0.97  \n",
       "        21                   1.08  \n",
       "        41                   1.06  "
      ]
     },
     "execution_count": 7,
     "metadata": {},
     "output_type": "execute_result"
    }
   ],
   "source": [
    "data3d.loc[mId['sheet_4',ltm_best_three_idx],data3d.columns[:10]]"
   ]
  },
  {
   "cell_type": "code",
   "execution_count": 6,
   "metadata": {
    "colab": {
     "base_uri": "https://localhost:8080/",
     "height": 592
    },
    "executionInfo": {
     "elapsed": 1356,
     "status": "ok",
     "timestamp": 1623595106267,
     "user": {
      "displayName": "Clash Clans",
      "photoUrl": "",
      "userId": "00562530571182710236"
     },
     "user_tz": -330
    },
    "id": "grqFRt6qQKWm",
    "outputId": "006ef5e8-6094-4e37-af1b-73a3b4071734"
   },
   "outputs": [
    {
     "data": {
      "image/png": "[encoded data removed]",
      "text/plain": [
       "<Figure size 1080x720 with 6 Axes>"
      ]
     },
     "metadata": {
      "needs_background": "light",
      "tags": []
     },
     "output_type": "display_data"
    }
   ],
   "source": [
    "# plot 20 years data for worse three\n",
    "plt.figure(figsize=(15,10))\n",
    "\n",
    "# plot trends \n",
    "# x - axis\n",
    "x_axis=['sheet_'+str(x) for x in range(total_sheets-1)]\n",
    "\n",
    "for n_plot,column in enumerate(data3d.columns[1:7],1):\n",
    "  plt.subplot(2,3,n_plot)\n",
    "  # y - axis\n",
    "  y_axis_all=[data3d.loc[pd.IndexSlice[:,ltm_worse_three_idx[y]],column].values for y in range(3)]\n",
    "  # plot\n",
    "  for n,y_axis in enumerate(y_axis_all,0):\n",
    "    plt.plot(x_axis,y_axis,label=str(n),marker='.')\n",
    "  plt.legend(),plt.ylabel(column)\n",
    "\n",
    "plt.show()"
   ]
  },
  {
   "cell_type": "code",
   "execution_count": 7,
   "metadata": {
    "colab": {
     "base_uri": "https://localhost:8080/",
     "height": 592
    },
    "executionInfo": {
     "elapsed": 1235,
     "status": "ok",
     "timestamp": 1623595116883,
     "user": {
      "displayName": "Clash Clans",
      "photoUrl": "",
      "userId": "00562530571182710236"
     },
     "user_tz": -330
    },
    "id": "MJxQfeB9VzF_",
    "outputId": "8c3f03fd-3e99-411f-9d1b-401c56e512f9"
   },
   "outputs": [
    {
     "data": {
      "image/png": "[encoded data removed]",
      "text/plain": [
       "<Figure size 1080x720 with 6 Axes>"
      ]
     },
     "metadata": {
      "needs_background": "light",
      "tags": []
     },
     "output_type": "display_data"
    }
   ],
   "source": [
    "# plot 20 years data for best three\n",
    "plt.figure(figsize=(15,10))\n",
    "\n",
    "# plot trends \n",
    "# x - axis\n",
    "x_axis=['sheet_'+str(x) for x in range(total_sheets-1)]\n",
    "# \n",
    "for n_plot,column in enumerate(data3d.columns[1:7],1):\n",
    "  plt.subplot(2,3,n_plot)\n",
    "  # y - axis\n",
    "  y_axis_all=[data3d.loc[pd.IndexSlice[:,ltm_best_three_idx[y]],column].values for y in range(3)]\n",
    "  # plot\n",
    "  for n,y_axis in enumerate(y_axis_all,0):\n",
    "    plt.plot(x_axis,y_axis,label=str(n),marker='.')\n",
    "  plt.legend(),plt.ylabel(column)\n",
    "\n",
    "plt.show()"
   ]
  },
  {
   "cell_type": "markdown",
   "metadata": {
    "id": "LbYmEGvJg3Hh"
   },
   "source": [
    "### sort term "
   ]
  },
  {
   "cell_type": "code",
   "execution_count": 8,
   "metadata": {
    "colab": {
     "base_uri": "https://localhost:8080/",
     "height": 199
    },
    "executionInfo": {
     "elapsed": 383,
     "status": "ok",
     "timestamp": 1623595234578,
     "user": {
      "displayName": "Clash Clans",
      "photoUrl": "",
      "userId": "00562530571182710236"
     },
     "user_tz": -330
    },
    "id": "JXGV5wfUjVtN",
    "outputId": "db4857e7-7a8c-4c33-e298-fbd252687287"
   },
   "outputs": [
    {
     "name": "stdout",
     "output_type": "stream",
     "text": [
      "worse_three [ 6 17 16]\n",
      "best_three [22  7  3]\n"
     ]
    },
    {
     "data": {
      "text/html": [
       "<div>\n",
       "<style scoped>\n",
       "    .dataframe tbody tr th:only-of-type {\n",
       "        vertical-align: middle;\n",
       "    }\n",
       "\n",
       "    .dataframe tbody tr th {\n",
       "        vertical-align: top;\n",
       "    }\n",
       "\n",
       "    .dataframe thead th {\n",
       "        text-align: right;\n",
       "    }\n",
       "</style>\n",
       "<table border=\"1\" class=\"dataframe\">\n",
       "  <thead>\n",
       "    <tr style=\"text-align: right;\">\n",
       "      <th></th>\n",
       "      <th></th>\n",
       "      <th>id</th>\n",
       "      <th>bp_large</th>\n",
       "      <th>roe_large</th>\n",
       "      <th>sp_large</th>\n",
       "      <th>ror_large_last_quarter</th>\n",
       "      <th>mv_large</th>\n",
       "      <th>systematic_risk_small</th>\n",
       "      <th>annual_return</th>\n",
       "      <th>excess_return</th>\n",
       "      <th>systemtic_risk_actual</th>\n",
       "    </tr>\n",
       "  </thead>\n",
       "  <tbody>\n",
       "    <tr>\n",
       "      <th rowspan=\"2\" valign=\"top\">sheet_0</th>\n",
       "      <th>5</th>\n",
       "      <td>6</td>\n",
       "      <td>0.0</td>\n",
       "      <td>0.0</td>\n",
       "      <td>0.0</td>\n",
       "      <td>0.0</td>\n",
       "      <td>0.0</td>\n",
       "      <td>1.0</td>\n",
       "      <td>-0.053382</td>\n",
       "      <td>-0.014856</td>\n",
       "      <td>0.859995</td>\n",
       "    </tr>\n",
       "    <tr>\n",
       "      <th>16</th>\n",
       "      <td>17</td>\n",
       "      <td>0.5</td>\n",
       "      <td>0.0</td>\n",
       "      <td>0.0</td>\n",
       "      <td>0.0</td>\n",
       "      <td>0.0</td>\n",
       "      <td>0.5</td>\n",
       "      <td>-0.023439</td>\n",
       "      <td>-0.006177</td>\n",
       "      <td>0.977325</td>\n",
       "    </tr>\n",
       "    <tr>\n",
       "      <th>sheet_1</th>\n",
       "      <th>15</th>\n",
       "      <td>16</td>\n",
       "      <td>0.0</td>\n",
       "      <td>0.0</td>\n",
       "      <td>0.0</td>\n",
       "      <td>0.5</td>\n",
       "      <td>0.5</td>\n",
       "      <td>0.0</td>\n",
       "      <td>-0.007220</td>\n",
       "      <td>0.004897</td>\n",
       "      <td>1.141957</td>\n",
       "    </tr>\n",
       "  </tbody>\n",
       "</table>\n",
       "</div>"
      ],
      "text/plain": [
       "            id  bp_large  ...  excess_return  systemtic_risk_actual\n",
       "sheet_0 5    6       0.0  ...      -0.014856               0.859995\n",
       "        16  17       0.5  ...      -0.006177               0.977325\n",
       "sheet_1 15  16       0.0  ...       0.004897               1.141957\n",
       "\n",
       "[3 rows x 10 columns]"
      ]
     },
     "execution_count": 8,
     "metadata": {
      "tags": []
     },
     "output_type": "execute_result"
    }
   ],
   "source": [
    "# See down trends - top three from bottom \n",
    "stm_worse_three_idx=data3d.sort_values('annual_return',ascending=True).index[:3]\n",
    "stm_worse_three=data3d.sort_values('annual_return',ascending=True).id.values[:3]\n",
    "print('worse_three',stm_worse_three)\n",
    "\n",
    "# See down trends - top three from top \n",
    "stm_best_three_idx=data3d.sort_values('annual_return',ascending=False).index[:3]\n",
    "stm_best_three=data3d.sort_values('annual_return',ascending=False).id.values[:3]\n",
    "print('best_three',stm_best_three)\n",
    "\n",
    "data3d.loc[mId[stm_worse_three_idx],data3d.columns[:10]]"
   ]
  },
  {
   "cell_type": "code",
   "execution_count": 8,
   "metadata": {
    "colab": {
     "base_uri": "https://localhost:8080/",
     "height": 163
    },
    "executionInfo": {
     "elapsed": 1169,
     "status": "ok",
     "timestamp": 1623591420161,
     "user": {
      "displayName": "Clash Clans",
      "photoUrl": "",
      "userId": "00562530571182710236"
     },
     "user_tz": -330
    },
    "id": "urNyq5z3kG4x",
    "outputId": "4570c3a3-47c0-4a4c-9b1c-bff8312b7bd1"
   },
   "outputs": [
    {
     "data": {
      "text/html": [
       "<div>\n",
       "<style scoped>\n",
       "    .dataframe tbody tr th:only-of-type {\n",
       "        vertical-align: middle;\n",
       "    }\n",
       "\n",
       "    .dataframe tbody tr th {\n",
       "        vertical-align: top;\n",
       "    }\n",
       "\n",
       "    .dataframe thead th {\n",
       "        text-align: right;\n",
       "    }\n",
       "</style>\n",
       "<table border=\"1\" class=\"dataframe\">\n",
       "  <thead>\n",
       "    <tr style=\"text-align: right;\">\n",
       "      <th></th>\n",
       "      <th></th>\n",
       "      <th>id</th>\n",
       "      <th>bp_large</th>\n",
       "      <th>roe_large</th>\n",
       "      <th>sp_large</th>\n",
       "      <th>ror_large_last_quarter</th>\n",
       "      <th>mv_large</th>\n",
       "      <th>systematic_risk_small</th>\n",
       "      <th>annual_return</th>\n",
       "      <th>excess_return</th>\n",
       "      <th>systemtic_risk_actual</th>\n",
       "    </tr>\n",
       "  </thead>\n",
       "  <tbody>\n",
       "    <tr>\n",
       "      <th rowspan=\"3\" valign=\"top\">sheet_1</th>\n",
       "      <th>21</th>\n",
       "      <td>22</td>\n",
       "      <td>0.333</td>\n",
       "      <td>0.333</td>\n",
       "      <td>0.333</td>\n",
       "      <td>0.0</td>\n",
       "      <td>0.0</td>\n",
       "      <td>0.0</td>\n",
       "      <td>0.300086</td>\n",
       "      <td>0.073955</td>\n",
       "      <td>1.067218</td>\n",
       "    </tr>\n",
       "    <tr>\n",
       "      <th>6</th>\n",
       "      <td>7</td>\n",
       "      <td>0.500</td>\n",
       "      <td>0.500</td>\n",
       "      <td>0.000</td>\n",
       "      <td>0.0</td>\n",
       "      <td>0.0</td>\n",
       "      <td>0.0</td>\n",
       "      <td>0.297516</td>\n",
       "      <td>0.071642</td>\n",
       "      <td>0.902055</td>\n",
       "    </tr>\n",
       "    <tr>\n",
       "      <th>2</th>\n",
       "      <td>3</td>\n",
       "      <td>0.000</td>\n",
       "      <td>0.000</td>\n",
       "      <td>1.000</td>\n",
       "      <td>0.0</td>\n",
       "      <td>0.0</td>\n",
       "      <td>0.0</td>\n",
       "      <td>0.295726</td>\n",
       "      <td>0.076156</td>\n",
       "      <td>1.316862</td>\n",
       "    </tr>\n",
       "  </tbody>\n",
       "</table>\n",
       "</div>"
      ],
      "text/plain": [
       "            id  bp_large  ...  excess_return  systemtic_risk_actual\n",
       "sheet_1 21  22     0.333  ...       0.073955               1.067218\n",
       "        6    7     0.500  ...       0.071642               0.902055\n",
       "        2    3     0.000  ...       0.076156               1.316862\n",
       "\n",
       "[3 rows x 10 columns]"
      ]
     },
     "execution_count": 8,
     "metadata": {
      "tags": []
     },
     "output_type": "execute_result"
    }
   ],
   "source": [
    "data3d.loc[mId[stm_best_three_idx],data3d.columns[:10]]"
   ]
  },
  {
   "cell_type": "markdown",
   "metadata": {
    "id": "d32NCvvNlgsM"
   },
   "source": [
    "### sort term, minumum risk "
   ]
  },
  {
   "cell_type": "code",
   "execution_count": 9,
   "metadata": {
    "colab": {
     "base_uri": "https://localhost:8080/",
     "height": 225
    },
    "executionInfo": {
     "elapsed": 31,
     "status": "ok",
     "timestamp": 1623591420162,
     "user": {
      "displayName": "Clash Clans",
      "photoUrl": "",
      "userId": "00562530571182710236"
     },
     "user_tz": -330
    },
    "id": "oJdjdTfWkbel",
    "outputId": "e4ea60d9-987a-479b-8004-6d82f318b28c"
   },
   "outputs": [
    {
     "data": {
      "text/html": [
       "<div>\n",
       "<style scoped>\n",
       "    .dataframe tbody tr th:only-of-type {\n",
       "        vertical-align: middle;\n",
       "    }\n",
       "\n",
       "    .dataframe tbody tr th {\n",
       "        vertical-align: top;\n",
       "    }\n",
       "\n",
       "    .dataframe thead th {\n",
       "        text-align: right;\n",
       "    }\n",
       "</style>\n",
       "<table border=\"1\" class=\"dataframe\">\n",
       "  <thead>\n",
       "    <tr style=\"text-align: right;\">\n",
       "      <th></th>\n",
       "      <th></th>\n",
       "      <th>id</th>\n",
       "      <th>bp_large</th>\n",
       "      <th>roe_large</th>\n",
       "      <th>sp_large</th>\n",
       "      <th>ror_large_last_quarter</th>\n",
       "      <th>mv_large</th>\n",
       "      <th>systematic_risk_small</th>\n",
       "      <th>annual_return</th>\n",
       "      <th>excess_return</th>\n",
       "      <th>systemtic_risk_actual</th>\n",
       "      <th>total_risk</th>\n",
       "      <th>abs_win_rate</th>\n",
       "      <th>relative_win_rate</th>\n",
       "      <th>annual_return_norm</th>\n",
       "      <th>excess_return_norm</th>\n",
       "      <th>systemtic_risk_actual_norm</th>\n",
       "      <th>total_risk_norm</th>\n",
       "      <th>abs_win_rate_norm</th>\n",
       "      <th>relative_win_rate_norm</th>\n",
       "    </tr>\n",
       "  </thead>\n",
       "  <tbody>\n",
       "    <tr>\n",
       "      <th rowspan=\"3\" valign=\"top\">sheet_1</th>\n",
       "      <th>21</th>\n",
       "      <td>22</td>\n",
       "      <td>0.333</td>\n",
       "      <td>0.333</td>\n",
       "      <td>0.333</td>\n",
       "      <td>0.0</td>\n",
       "      <td>0.0</td>\n",
       "      <td>0.0</td>\n",
       "      <td>0.300086</td>\n",
       "      <td>0.073955</td>\n",
       "      <td>1.067218</td>\n",
       "      <td>0.120580</td>\n",
       "      <td>0.85</td>\n",
       "      <td>0.85</td>\n",
       "      <td>0.800000</td>\n",
       "      <td>0.781465</td>\n",
       "      <td>0.371233</td>\n",
       "      <td>0.458673</td>\n",
       "      <td>0.800000</td>\n",
       "      <td>0.725</td>\n",
       "    </tr>\n",
       "    <tr>\n",
       "      <th>6</th>\n",
       "      <td>7</td>\n",
       "      <td>0.500</td>\n",
       "      <td>0.500</td>\n",
       "      <td>0.000</td>\n",
       "      <td>0.0</td>\n",
       "      <td>0.0</td>\n",
       "      <td>0.0</td>\n",
       "      <td>0.297516</td>\n",
       "      <td>0.071642</td>\n",
       "      <td>0.902055</td>\n",
       "      <td>0.102550</td>\n",
       "      <td>0.80</td>\n",
       "      <td>0.85</td>\n",
       "      <td>0.794983</td>\n",
       "      <td>0.761993</td>\n",
       "      <td>0.233249</td>\n",
       "      <td>0.318102</td>\n",
       "      <td>0.714286</td>\n",
       "      <td>0.725</td>\n",
       "    </tr>\n",
       "    <tr>\n",
       "      <th>2</th>\n",
       "      <td>3</td>\n",
       "      <td>0.000</td>\n",
       "      <td>0.000</td>\n",
       "      <td>1.000</td>\n",
       "      <td>0.0</td>\n",
       "      <td>0.0</td>\n",
       "      <td>0.0</td>\n",
       "      <td>0.295726</td>\n",
       "      <td>0.076156</td>\n",
       "      <td>1.316862</td>\n",
       "      <td>0.147754</td>\n",
       "      <td>0.65</td>\n",
       "      <td>0.85</td>\n",
       "      <td>0.791489</td>\n",
       "      <td>0.800000</td>\n",
       "      <td>0.579796</td>\n",
       "      <td>0.670530</td>\n",
       "      <td>0.457143</td>\n",
       "      <td>0.725</td>\n",
       "    </tr>\n",
       "    <tr>\n",
       "      <th rowspan=\"2\" valign=\"top\">sheet_3</th>\n",
       "      <th>6</th>\n",
       "      <td>7</td>\n",
       "      <td>0.500</td>\n",
       "      <td>0.500</td>\n",
       "      <td>0.000</td>\n",
       "      <td>0.0</td>\n",
       "      <td>0.0</td>\n",
       "      <td>0.0</td>\n",
       "      <td>0.294884</td>\n",
       "      <td>0.024584</td>\n",
       "      <td>1.060690</td>\n",
       "      <td>0.064909</td>\n",
       "      <td>0.90</td>\n",
       "      <td>0.70</td>\n",
       "      <td>0.800000</td>\n",
       "      <td>0.777744</td>\n",
       "      <td>0.462267</td>\n",
       "      <td>0.460149</td>\n",
       "      <td>0.800000</td>\n",
       "      <td>0.650</td>\n",
       "    </tr>\n",
       "    <tr>\n",
       "      <th>21</th>\n",
       "      <td>22</td>\n",
       "      <td>0.333</td>\n",
       "      <td>0.333</td>\n",
       "      <td>0.333</td>\n",
       "      <td>0.0</td>\n",
       "      <td>0.0</td>\n",
       "      <td>0.0</td>\n",
       "      <td>0.290061</td>\n",
       "      <td>0.022651</td>\n",
       "      <td>1.091540</td>\n",
       "      <td>0.071344</td>\n",
       "      <td>0.80</td>\n",
       "      <td>0.75</td>\n",
       "      <td>0.778624</td>\n",
       "      <td>0.745203</td>\n",
       "      <td>0.491525</td>\n",
       "      <td>0.549004</td>\n",
       "      <td>0.560000</td>\n",
       "      <td>0.725</td>\n",
       "    </tr>\n",
       "  </tbody>\n",
       "</table>\n",
       "</div>"
      ],
      "text/plain": [
       "            id  bp_large  ...  abs_win_rate_norm  relative_win_rate_norm\n",
       "sheet_1 21  22     0.333  ...           0.800000                   0.725\n",
       "        6    7     0.500  ...           0.714286                   0.725\n",
       "        2    3     0.000  ...           0.457143                   0.725\n",
       "sheet_3 6    7     0.500  ...           0.800000                   0.650\n",
       "        21  22     0.333  ...           0.560000                   0.725\n",
       "\n",
       "[5 rows x 19 columns]"
      ]
     },
     "execution_count": 9,
     "metadata": {
      "tags": []
     },
     "output_type": "execute_result"
    }
   ],
   "source": [
    "data3d.sort_values(['annual_return','systemtic_risk_actual'],ascending=False).head()"
   ]
  },
  {
   "cell_type": "markdown",
   "metadata": {
    "id": "MRewQS2esfji"
   },
   "source": [
    "### predection - long term "
   ]
  },
  {
   "cell_type": "code",
   "execution_count": 10,
   "metadata": {
    "colab": {
     "base_uri": "https://localhost:8080/"
    },
    "executionInfo": {
     "elapsed": 31,
     "status": "ok",
     "timestamp": 1623591420164,
     "user": {
      "displayName": "Clash Clans",
      "photoUrl": "",
      "userId": "00562530571182710236"
     },
     "user_tz": -330
    },
    "id": "nhi8yj4Dsobs",
    "outputId": "ab25acd6-809e-4273-ac79-23583dc57f2a"
   },
   "outputs": [
    {
     "data": {
      "text/plain": [
       "Index(['id', 'bp_large', 'roe_large', 'sp_large', 'ror_large_last_quarter',\n",
       "       'mv_large', 'systematic_risk_small', 'annual_return', 'excess_return',\n",
       "       'systemtic_risk_actual', 'total_risk', 'abs_win_rate',\n",
       "       'relative_win_rate', 'annual_return_norm', 'excess_return_norm',\n",
       "       'systemtic_risk_actual_norm', 'total_risk_norm', 'abs_win_rate_norm',\n",
       "       'relative_win_rate_norm'],\n",
       "      dtype='object')"
      ]
     },
     "execution_count": 10,
     "metadata": {
      "tags": []
     },
     "output_type": "execute_result"
    }
   ],
   "source": [
    "data3d.columns"
   ]
  },
  {
   "cell_type": "markdown",
   "metadata": {
    "id": "ZFj9K03PUrCI"
   },
   "source": [
    "### get data"
   ]
  },
  {
   "cell_type": "code",
   "execution_count": 9,
   "metadata": {
    "colab": {
     "base_uri": "https://localhost:8080/"
    },
    "executionInfo": {
     "elapsed": 363,
     "status": "ok",
     "timestamp": 1623595563665,
     "user": {
      "displayName": "Clash Clans",
      "photoUrl": "",
      "userId": "00562530571182710236"
     },
     "user_tz": -330
    },
    "id": "PSKT4GSkE_uT",
    "outputId": "ce4127b6-9d09-4f74-83f6-af8ef8bf0727"
   },
   "outputs": [
    {
     "data": {
      "text/plain": [
       "((63, 6), (63, 3))"
      ]
     },
     "execution_count": 9,
     "metadata": {
      "tags": []
     },
     "output_type": "execute_result"
    }
   ],
   "source": [
    "# data (input) ['bp_large','roe_large','sp_large','ror_large_last_quarter','mv_large','systematic_risk_small']\n",
    "in_names=['bp_large','roe_large','sp_large','ror_large_last_quarter','mv_large','systematic_risk_small']\n",
    "X=data3d.loc[mId['sheet_4',:],data3d.columns[1:7]].values  # sort term - X=data3d.loc[mId['sheet_0':'sheet_3',:],data3d.columns[1:7]].values\n",
    "\n",
    "# labels (to predict) ['annual_return','excess_return','total_risk']\n",
    "outs_name=['annual_return','excess_return','total_risk']\n",
    "y=data3d.loc[mId['sheet_4',:],['annual_return','excess_return','total_risk']].values # sort term - y=data3d.loc[mId['sheet_0':'sheet_3',:],['annual_return','excess_return','total_risk']].values\n",
    "\n",
    "X.shape,y.shape"
   ]
  },
  {
   "cell_type": "markdown",
   "metadata": {
    "id": "m78rj2GHxwl5"
   },
   "source": [
    "### normalize and split"
   ]
  },
  {
   "cell_type": "code",
   "execution_count": 10,
   "metadata": {
    "colab": {
     "base_uri": "https://localhost:8080/"
    },
    "executionInfo": {
     "elapsed": 990,
     "status": "ok",
     "timestamp": 1623595639239,
     "user": {
      "displayName": "Clash Clans",
      "photoUrl": "",
      "userId": "00562530571182710236"
     },
     "user_tz": -330
    },
    "id": "72sgZkU8vF5K",
    "outputId": "1fed7603-18c8-4327-9487-6357eb725f34"
   },
   "outputs": [
    {
     "data": {
      "text/plain": [
       "((56, 6), (7, 6), (56, 3), (7, 3))"
      ]
     },
     "execution_count": 10,
     "metadata": {
      "tags": []
     },
     "output_type": "execute_result"
    }
   ],
   "source": [
    "# import function \n",
    "from sklearn.preprocessing import normalize\n",
    "# doc -> https://scikit-learn.org/stable/modules/generated/sklearn.preprocessing.Normalizer.html#sklearn.preprocessing.Normalizer\n",
    "\n",
    "X_norm,norms_of_x=normalize(X,norm='l1',axis=0,copy=True,return_norm=True)\n",
    "y_norm,norms_of_y=normalize(y,norm='l1',axis=0,copy=True,return_norm=True)\n",
    "\n",
    "# split\n",
    "from sklearn.model_selection import train_test_split\n",
    "# Source: https://scikit-learn.org/stable/modules/generated/sklearn.model_selection.train_test_split.html\n",
    "nX_train,nX_test,ny_train,ny_test=train_test_split(X_norm,y_norm,test_size=0.10,random_state=7)\n",
    "# _________________________________________________________________\n",
    "# split - un-norm data\n",
    "X_train,X_test,y_train,y_test=train_test_split(X,y,test_size=0.10,random_state=7)\n",
    "\n",
    "# shape\n",
    "nX_train.shape,nX_test.shape,ny_train.shape,ny_test.shape"
   ]
  },
  {
   "cell_type": "markdown",
   "metadata": {
    "id": "Lkm9dwYc3bYe"
   },
   "source": [
    "### liner model"
   ]
  },
  {
   "cell_type": "markdown",
   "metadata": {
    "id": "932uJFDR4G0Q"
   },
   "source": [
    "#### multiple outputs"
   ]
  },
  {
   "cell_type": "code",
   "execution_count": 11,
   "metadata": {
    "colab": {
     "base_uri": "https://localhost:8080/"
    },
    "executionInfo": {
     "elapsed": 377,
     "status": "ok",
     "timestamp": 1623595754076,
     "user": {
      "displayName": "Clash Clans",
      "photoUrl": "",
      "userId": "00562530571182710236"
     },
     "user_tz": -330
    },
    "id": "CW4UGqhByaXK",
    "outputId": "9780ba1e-f988-4bf3-948a-3d25a273a9f3"
   },
   "outputs": [
    {
     "name": "stdout",
     "output_type": "stream",
     "text": [
      "coef_ of shape: (3, 6) : value -\n",
      " [[ 2.202696    2.23229594  2.24975041  2.15741387  2.13026079  2.12529582]\n",
      " [ 5.91621291  5.97400974  6.010513    5.78611649  5.73625632  5.75602156]\n",
      " [-0.31908885 -0.37532361 -0.3165433  -0.32982325 -0.39759677 -0.36089127]]\n",
      "intercept_ of shape: (3,) : value -\n",
      " [-0.19191142 -0.54251533  0.04914567]\n"
     ]
    }
   ],
   "source": [
    "# linear model for multiple outputs - norm data\n",
    "from sklearn.linear_model import LinearRegression\n",
    "# Source: https://scikit-learn.org/stable/modules/generated/sklearn.linear_model.LinearRegression.html\n",
    "\n",
    "# make model for multiple outputs \n",
    "nliner_multi=LinearRegression()\n",
    "# to know more - https://github.com/scikit-learn/scikit-learn/blob/15a949460/sklearn/linear_model/_base.py#L391\n",
    "# train model \n",
    "nliner_multi.fit(nX_train,ny_train)\n",
    "# print coef_\n",
    "print('coef_ of shape:',nliner_multi.coef_.shape,': value -\\n',nliner_multi.coef_)\n",
    "# print intercept_\n",
    "print('intercept_ of shape:',nliner_multi.intercept_.shape,': value -\\n',nliner_multi.intercept_)"
   ]
  },
  {
   "cell_type": "markdown",
   "metadata": {
    "id": "U8VQKxJ35aQZ"
   },
   "source": [
    "#### single outputs"
   ]
  },
  {
   "cell_type": "code",
   "execution_count": 13,
   "metadata": {
    "colab": {
     "base_uri": "https://localhost:8080/"
    },
    "executionInfo": {
     "elapsed": 398,
     "status": "ok",
     "timestamp": 1623596094102,
     "user": {
      "displayName": "Clash Clans",
      "photoUrl": "",
      "userId": "00562530571182710236"
     },
     "user_tz": -330
    },
    "id": "LXvMACi9Vc7U",
    "outputId": "3a976981-893e-48d2-9cf8-db44c80ef0f3"
   },
   "outputs": [
    {
     "name": "stdout",
     "output_type": "stream",
     "text": [
      "coef_ of shape: (6,) : value -\n",
      " [2.202696   2.23229594 2.24975041 2.15741387 2.13026079 2.12529582]\n",
      "intercept_ of shape: () : value -\n",
      " -0.19191141657378746\n"
     ]
    },
    {
     "data": {
      "text/plain": [
       "LinearRegression(copy_X=True, fit_intercept=True, n_jobs=None, normalize=False)"
      ]
     },
     "execution_count": 13,
     "metadata": {
      "tags": []
     },
     "output_type": "execute_result"
    }
   ],
   "source": [
    "# make model for single outputs - norm data\n",
    "nliner_single=LinearRegression()\n",
    "# to know more - https://github.com/scikit-learn/scikit-learn/blob/15a949460/sklearn/linear_model/_base.py#L391\n",
    "\n",
    "# train model \n",
    "nliner_single.fit(nX_train,ny_train[:,0])\n",
    "# print coef_\n",
    "print('coef_ of shape:',nliner_single.coef_.shape,': value -\\n',nliner_single.coef_)\n",
    "# print intercept_\n",
    "print('intercept_ of shape:',nliner_single.intercept_.shape,': value -\\n',nliner_single.intercept_)\n",
    "\n",
    "\n",
    "# make model for single outputs - un-norm data\n",
    "liner_single=LinearRegression()\n",
    "# train model \n",
    "liner_single.fit(X_train,y_train[:,0])"
   ]
  },
  {
   "cell_type": "markdown",
   "metadata": {
    "id": "oO-Rq4RY_s29"
   },
   "source": [
    "#### compair"
   ]
  },
  {
   "cell_type": "code",
   "execution_count": 14,
   "metadata": {
    "colab": {
     "base_uri": "https://localhost:8080/"
    },
    "executionInfo": {
     "elapsed": 7,
     "status": "ok",
     "timestamp": 1623596095923,
     "user": {
      "displayName": "Clash Clans",
      "photoUrl": "",
      "userId": "00562530571182710236"
     },
     "user_tz": -330
    },
    "id": "iORwkHI1R5HX",
    "outputId": "fcbc3e44-ca1e-4132-8461-6dcd24c6102a"
   },
   "outputs": [
    {
     "name": "stdout",
     "output_type": "stream",
     "text": [
      "error multi-outputs norm: [0.01927095 0.005284   0.00775093]\n",
      "error single-outputs norm: 0.019270951142947794\n",
      "error single-outputs un-norm: 0.019270951142947357\n",
      "absolute difference: [-0.02585069 -0.03771539  0.01296044 -0.02185498  0.01766048  0.00254028\n",
      " -0.01631441]\n"
     ]
    }
   ],
   "source": [
    "# error \n",
    "from sklearn.metrics import mean_absolute_error\n",
    "# source: https://scikit-learn.org/stable/modules/generated/sklearn.metrics.mean_absolute_error.html\n",
    "\n",
    "print('error multi-outputs norm:',mean_absolute_error(ny_test,nliner_multi.predict(nX_test),multioutput='raw_values')*norms_of_y) # avg\n",
    "print('error single-outputs norm:',mean_absolute_error(ny_test[:,0],nliner_single.predict(nX_test))*norms_of_y[0]) # avg\n",
    "print('error single-outputs un-norm:',mean_absolute_error(y_test[:,0],liner_single.predict(X_test)))\n",
    "print('absolute difference:',(ny_test[:,0]-nliner_single.predict(nX_test))*norms_of_y[0])"
   ]
  },
  {
   "cell_type": "code",
   "execution_count": 15,
   "metadata": {
    "colab": {
     "base_uri": "https://localhost:8080/",
     "height": 428
    },
    "executionInfo": {
     "elapsed": 630,
     "status": "ok",
     "timestamp": 1623596224556,
     "user": {
      "displayName": "Clash Clans",
      "photoUrl": "",
      "userId": "00562530571182710236"
     },
     "user_tz": -330
    },
    "id": "gKey4mVHAAW1",
    "outputId": "d19269a8-7639-4dd3-fe99-00f4319c8616"
   },
   "outputs": [
    {
     "data": {
      "image/png": "[encoded data removed]",
      "text/plain": [
       "<Figure size 720x504 with 1 Axes>"
      ]
     },
     "metadata": {
      "needs_background": "light",
      "tags": []
     },
     "output_type": "display_data"
    }
   ],
   "source": [
    "# plot \n",
    "plt.figure(figsize=(10,7))\n",
    "plt.plot(range(y_test.shape[0]),y_test[:,0],c='b',marker='.',label='true')\n",
    "plt.plot(range(y_test.shape[0]),liner_single.predict(X_test),c='r',marker='*',label='predicted')\n",
    "plt.grid(),plt.legend()\n",
    "plt.show()"
   ]
  },
  {
   "cell_type": "markdown",
   "metadata": {
    "id": "MIf7TykPXRVE"
   },
   "source": [
    "### tree"
   ]
  },
  {
   "cell_type": "code",
   "execution_count": 17,
   "metadata": {
    "colab": {
     "base_uri": "https://localhost:8080/"
    },
    "executionInfo": {
     "elapsed": 614,
     "status": "ok",
     "timestamp": 1623596360708,
     "user": {
      "displayName": "Clash Clans",
      "photoUrl": "",
      "userId": "00562530571182710236"
     },
     "user_tz": -330
    },
    "id": "um15UQxuVUFt",
    "outputId": "dba80466-0c5c-4eb2-d0ad-137f403e6a06"
   },
   "outputs": [
    {
     "name": "stdout",
     "output_type": "stream",
     "text": [
      "error single-outputs un-norm: 0.008714285714285706\n",
      "error single-outputs norm 0.009285714285714269\n"
     ]
    }
   ],
   "source": [
    "# make model for single output \n",
    "from sklearn.tree import DecisionTreeRegressor\n",
    "# source: https://scikit-learn.org/stable/modules/generated/sklearn.tree.DecisionTreeRegressor.html\n",
    "\n",
    "# calculations\n",
    "# MSE = (sum_square_of_left / w_l) + (sum_square_of_right / w_r)\n",
    "# FriedmanMSE = (w_r * total_left_sum - w_l * total_rigth_sum)**2 / (w_r * w_l)\n",
    "\n",
    "# make model - un-norm\n",
    "tree_single=DecisionTreeRegressor(criterion='friedman_mse',random_state=7)\n",
    "# train model \n",
    "tree_single.fit(X_train,y_train[:,0])\n",
    "print('error single-outputs un-norm:',mean_absolute_error(y_test[:,0],tree_single.predict(X_test)))\n",
    "\n",
    "# make model - norm\n",
    "ntree_single=DecisionTreeRegressor(criterion='friedman_mse',random_state=7)\n",
    "# train model \n",
    "ntree_single.fit(nX_train,ny_train[:,0])\n",
    "print('error single-outputs norm',mean_absolute_error(ny_test[:,0],ntree_single.predict(nX_test))*norms_of_y[0])"
   ]
  },
  {
   "cell_type": "markdown",
   "metadata": {
    "id": "gj6VJY2mp4R0"
   },
   "source": [
    "#### visualize"
   ]
  },
  {
   "cell_type": "code",
   "execution_count": 18,
   "metadata": {
    "colab": {
     "base_uri": "https://localhost:8080/",
     "height": 0
    },
    "executionInfo": {
     "elapsed": 1881,
     "status": "ok",
     "timestamp": 1623596365074,
     "user": {
      "displayName": "Clash Clans",
      "photoUrl": "",
      "userId": "00562530571182710236"
     },
     "user_tz": -330
    },
    "id": "t6QXGGmiorzi",
    "outputId": "c0b3333a-35cb-458e-9826-89aaecff31e6"
   },
   "outputs": [
    {
     "data": {
      "image/png": "[encoded data removed]",
      "text/plain": [
       "<Figure size 1440x720 with 1 Axes>"
      ]
     },
     "metadata": {
      "needs_background": "light",
      "tags": []
     },
     "output_type": "display_data"
    }
   ],
   "source": [
    "# make model for single output \n",
    "from sklearn.tree import plot_tree\n",
    "\n",
    "plt.figure(figsize=(20,10))\n",
    "sample_tree_single=DecisionTreeRegressor(max_depth=7).fit(X_train[:,0].reshape(-1,1),y_train[:,0])\n",
    "plot_tree(sample_tree_single)\n",
    "plt.show()"
   ]
  },
  {
   "cell_type": "markdown",
   "metadata": {
    "id": "eVv50QDubB5c"
   },
   "source": [
    "### tree vs linear"
   ]
  },
  {
   "cell_type": "code",
   "execution_count": 19,
   "metadata": {
    "colab": {
     "base_uri": "https://localhost:8080/"
    },
    "executionInfo": {
     "elapsed": 575,
     "status": "ok",
     "timestamp": 1623596616241,
     "user": {
      "displayName": "Clash Clans",
      "photoUrl": "",
      "userId": "00562530571182710236"
     },
     "user_tz": -330
    },
    "id": "XlWS1lu00an1",
    "outputId": "38266bea-af89-4054-97cf-1c53da12406c"
   },
   "outputs": [
    {
     "name": "stdout",
     "output_type": "stream",
     "text": [
      "error linear single-outputs un-norm: 0.019270951142947357\n",
      "error tree single-outputs un-norm: 0.008714285714285706\n",
      "absolute difference linear: [-0.02585069 -0.03771539  0.01296044 -0.02185498  0.01766048  0.00254028\n",
      " -0.01631441]\n",
      "absolute difference tree: [-0.003  0.003  0.019  0.008 -0.013  0.001 -0.014]\n",
      "absolute difference linear-tree: [ 0.02285069  0.04071539  0.00603956  0.02985498 -0.03066048 -0.00154028\n",
      "  0.00231441]\n"
     ]
    }
   ],
   "source": [
    "print('error linear single-outputs un-norm:',mean_absolute_error(y_test[:,0],liner_single.predict(X_test)))\n",
    "print('error tree single-outputs un-norm:',mean_absolute_error(y_test[:,0],tree_single.predict(X_test)))\n",
    "print('absolute difference linear:',y_test[:,0]-liner_single.predict(X_test))\n",
    "print('absolute difference tree:',y_test[:,0]-tree_single.predict(X_test))\n",
    "print('absolute difference linear-tree:',liner_single.predict(X_test)-tree_single.predict(X_test))"
   ]
  },
  {
   "cell_type": "code",
   "execution_count": 20,
   "metadata": {
    "colab": {
     "base_uri": "https://localhost:8080/",
     "height": 0
    },
    "executionInfo": {
     "elapsed": 23,
     "status": "ok",
     "timestamp": 1623591422043,
     "user": {
      "displayName": "Clash Clans",
      "photoUrl": "",
      "userId": "00562530571182710236"
     },
     "user_tz": -330
    },
    "id": "CFqznfRybe2N",
    "outputId": "0a09309b-2019-4c54-c57a-30d1af7a2dcd"
   },
   "outputs": [
    {
     "data": {
      "image/png": "[encoded data removed]",
      "text/plain": [
       "<Figure size 720x504 with 1 Axes>"
      ]
     },
     "metadata": {
      "needs_background": "light",
      "tags": []
     },
     "output_type": "display_data"
    }
   ],
   "source": [
    "# plot \n",
    "plt.figure(figsize=(10,7))\n",
    "plt.plot(range(y_test.shape[0]),y_test[:,0],marker='.',label='true')\n",
    "plt.plot(range(y_test.shape[0]),liner_single.predict(X_test),marker='.',label='predicted linear')\n",
    "plt.plot(range(y_test.shape[0]),tree_single.predict(X_test),marker='.',label='predicted tree')\n",
    "plt.grid(),plt.legend()\n",
    "plt.show()"
   ]
  },
  {
   "cell_type": "markdown",
   "metadata": {
    "id": "JRpcnAz2ejh5"
   },
   "source": [
    "### improving tree"
   ]
  },
  {
   "cell_type": "code",
   "execution_count": 24,
   "metadata": {
    "colab": {
     "base_uri": "https://localhost:8080/"
    },
    "executionInfo": {
     "elapsed": 396,
     "status": "ok",
     "timestamp": 1623597364577,
     "user": {
      "displayName": "Clash Clans",
      "photoUrl": "",
      "userId": "00562530571182710236"
     },
     "user_tz": -330
    },
    "id": "px75pj5iJDVx",
    "outputId": "e12a214c-ddd6-4cb5-9ade-dc1f92d2b85a"
   },
   "outputs": [
    {
     "name": "stdout",
     "output_type": "stream",
     "text": [
      "error Gradient Boosting Regressor-outputs un-norm: 0.007556044327352208\n",
      "error Forest Regressor-outputs un-norm: 0.012448571428571458\n"
     ]
    }
   ],
   "source": [
    "# make model for single output - Gradient Boosting\n",
    "from sklearn.ensemble import GradientBoostingRegressor\n",
    "# source: https://scikit-learn.org/stable/modules/generated/sklearn.ensemble.GradientBoostingRegressor.html\n",
    "\n",
    "# make model - un-norm\n",
    "gboost_tree_single=GradientBoostingRegressor(learning_rate=0.1,criterion='friedman_mse')\n",
    "# train model \n",
    "gboost_tree_single.fit(X_train,y_train[:,0])\n",
    "print('error Gradient Boosting Regressor-outputs un-norm:',mean_absolute_error(y_test[:,0],gboost_tree_single.predict(X_test)))\n",
    "\n",
    "# make model for single output - \n",
    "from sklearn.ensemble import RandomForestRegressor\n",
    "# source: https://scikit-learn.org/stable/modules/generated/sklearn.ensemble.RandomForestRegressor.html\n",
    "\n",
    "# make model - un-norm\n",
    "forest_single=RandomForestRegressor(criterion='friedman_mse')\n",
    "# train model \n",
    "forest_single.fit(X_train,y_train[:,0])\n",
    "print('error Forest Regressor-outputs un-norm:',mean_absolute_error(y_test[:,0],forest_single.predict(X_test)))"
   ]
  },
  {
   "cell_type": "code",
   "execution_count": 25,
   "metadata": {
    "colab": {
     "base_uri": "https://localhost:8080/"
    },
    "executionInfo": {
     "elapsed": 405,
     "status": "ok",
     "timestamp": 1623597590465,
     "user": {
      "displayName": "Clash Clans",
      "photoUrl": "",
      "userId": "00562530571182710236"
     },
     "user_tz": -330
    },
    "id": "V1HlyQ85jgq7",
    "outputId": "e540d63c-a645-4766-9020-65587705a657"
   },
   "outputs": [
    {
     "name": "stdout",
     "output_type": "stream",
     "text": [
      "error Gradient Boosting Regressor-outputs un-norm: 0.007556044327352208\n",
      "error tree single-outputs un-norm: 0.008714285714285706\n",
      "error linear single-outputs un-norm: 0.019270951142947357\n",
      "Gradient Boosting Regressor score: 0.9056047979961279\n",
      "tree score: 0.8849778608278833\n",
      "linear score: 0.5278509157028535\n"
     ]
    }
   ],
   "source": [
    "print('error Gradient Boosting Regressor-outputs un-norm:',mean_absolute_error(y_test[:,0],gboost_tree_single.predict(X_test)))\n",
    "print('error tree single-outputs un-norm:',mean_absolute_error(y_test[:,0],tree_single.predict(X_test)))\n",
    "print('error linear single-outputs un-norm:',mean_absolute_error(y_test[:,0],liner_single.predict(X_test)))\n",
    "print('Gradient Boosting Regressor score:',gboost_tree_single.score(X_test,y_test[:,0]))\n",
    "print('tree score:',tree_single.score(X_test,y_test[:,0]))\n",
    "print('linear score:',liner_single.score(X_test,y_test[:,0]))"
   ]
  },
  {
   "cell_type": "code",
   "execution_count": 27,
   "metadata": {
    "colab": {
     "base_uri": "https://localhost:8080/",
     "height": 428
    },
    "executionInfo": {
     "elapsed": 720,
     "status": "ok",
     "timestamp": 1623597777749,
     "user": {
      "displayName": "Clash Clans",
      "photoUrl": "",
      "userId": "00562530571182710236"
     },
     "user_tz": -330
    },
    "id": "iUkmWPOdnSTL",
    "outputId": "afea06c8-f767-4624-bb9c-76c3d68bad5d"
   },
   "outputs": [
    {
     "data": {
      "image/png": "[encoded data removed]",
      "text/plain": [
       "<Figure size 720x504 with 1 Axes>"
      ]
     },
     "metadata": {
      "needs_background": "light",
      "tags": []
     },
     "output_type": "display_data"
    }
   ],
   "source": [
    "# plot \n",
    "plt.figure(figsize=(10,7))\n",
    "plt.plot(range(y_test.shape[0]),y_test[:,0],marker='*',label='true')\n",
    "plt.plot(range(y_test.shape[0]),gboost_tree_single.predict(X_test),marker='*',label='Gradient Boosting')\n",
    "plt.plot(range(y_test.shape[0]),tree_single.predict(X_test),marker='*',label='predicted tree')\n",
    "plt.grid(),plt.legend()\n",
    "plt.show()"
   ]
  },
  {
   "cell_type": "markdown",
   "metadata": {
    "id": "6ljsu7fQoHuQ"
   },
   "source": [
    "# get me the real ---\n",
    "\n",
    "source: https://datahub.io/core/s-and-p-500-companies-financials"
   ]
  },
  {
   "cell_type": "code",
   "execution_count": 57,
   "metadata": {
    "colab": {
     "base_uri": "https://localhost:8080/",
     "height": 301
    },
    "executionInfo": {
     "elapsed": 1544,
     "status": "ok",
     "timestamp": 1623599892124,
     "user": {
      "displayName": "Clash Clans",
      "photoUrl": "",
      "userId": "00562530571182710236"
     },
     "user_tz": -330
    },
    "id": "-T_0CZhToA1O",
    "outputId": "5d99ab3d-5686-4cdb-ea0e-30ae108a5c75"
   },
   "outputs": [
    {
     "data": {
      "text/html": [
       "<div>\n",
       "<style scoped>\n",
       "    .dataframe tbody tr th:only-of-type {\n",
       "        vertical-align: middle;\n",
       "    }\n",
       "\n",
       "    .dataframe tbody tr th {\n",
       "        vertical-align: top;\n",
       "    }\n",
       "\n",
       "    .dataframe thead th {\n",
       "        text-align: right;\n",
       "    }\n",
       "</style>\n",
       "<table border=\"1\" class=\"dataframe\">\n",
       "  <thead>\n",
       "    <tr style=\"text-align: right;\">\n",
       "      <th></th>\n",
       "      <th>Symbol</th>\n",
       "      <th>Name</th>\n",
       "      <th>Sector</th>\n",
       "      <th>Price</th>\n",
       "      <th>Price/Earnings</th>\n",
       "      <th>Dividend Yield</th>\n",
       "      <th>Earnings/Share</th>\n",
       "      <th>52 Week Low</th>\n",
       "      <th>52 Week High</th>\n",
       "      <th>Market Cap</th>\n",
       "      <th>EBITDA</th>\n",
       "      <th>Price/Sales</th>\n",
       "      <th>Price/Book</th>\n",
       "      <th>SEC Filings</th>\n",
       "    </tr>\n",
       "  </thead>\n",
       "  <tbody>\n",
       "    <tr>\n",
       "      <th>0</th>\n",
       "      <td>MMM</td>\n",
       "      <td>3M Company</td>\n",
       "      <td>Industrials</td>\n",
       "      <td>222.89</td>\n",
       "      <td>24.31</td>\n",
       "      <td>2.332862</td>\n",
       "      <td>7.92</td>\n",
       "      <td>259.77</td>\n",
       "      <td>175.490</td>\n",
       "      <td>138721055226</td>\n",
       "      <td>9.048000e+09</td>\n",
       "      <td>4.390271</td>\n",
       "      <td>11.34</td>\n",
       "      <td>http://www.sec.gov/cgi-bin/browse-edgar?action...</td>\n",
       "    </tr>\n",
       "    <tr>\n",
       "      <th>1</th>\n",
       "      <td>AOS</td>\n",
       "      <td>A.O. Smith Corp</td>\n",
       "      <td>Industrials</td>\n",
       "      <td>60.24</td>\n",
       "      <td>27.76</td>\n",
       "      <td>1.147959</td>\n",
       "      <td>1.70</td>\n",
       "      <td>68.39</td>\n",
       "      <td>48.925</td>\n",
       "      <td>10783419933</td>\n",
       "      <td>6.010000e+08</td>\n",
       "      <td>3.575483</td>\n",
       "      <td>6.35</td>\n",
       "      <td>http://www.sec.gov/cgi-bin/browse-edgar?action...</td>\n",
       "    </tr>\n",
       "    <tr>\n",
       "      <th>2</th>\n",
       "      <td>ABT</td>\n",
       "      <td>Abbott Laboratories</td>\n",
       "      <td>Health Care</td>\n",
       "      <td>56.27</td>\n",
       "      <td>22.51</td>\n",
       "      <td>1.908982</td>\n",
       "      <td>0.26</td>\n",
       "      <td>64.60</td>\n",
       "      <td>42.280</td>\n",
       "      <td>102121042306</td>\n",
       "      <td>5.744000e+09</td>\n",
       "      <td>3.740480</td>\n",
       "      <td>3.19</td>\n",
       "      <td>http://www.sec.gov/cgi-bin/browse-edgar?action...</td>\n",
       "    </tr>\n",
       "  </tbody>\n",
       "</table>\n",
       "</div>"
      ],
      "text/plain": [
       "  Symbol  ...                                        SEC Filings\n",
       "0    MMM  ...  http://www.sec.gov/cgi-bin/browse-edgar?action...\n",
       "1    AOS  ...  http://www.sec.gov/cgi-bin/browse-edgar?action...\n",
       "2    ABT  ...  http://www.sec.gov/cgi-bin/browse-edgar?action...\n",
       "\n",
       "[3 rows x 14 columns]"
      ]
     },
     "execution_count": 57,
     "metadata": {
      "tags": []
     },
     "output_type": "execute_result"
    }
   ],
   "source": [
    "# data source\n",
    "data_link='https://datahub.io/core/s-and-p-500-companies-financials/r/constituents-financials.csv'\n",
    "\n",
    "# load data\n",
    "snp_500=pd.read_csv(data_link)\n",
    "snp_500.head(3)\n",
    "#EBITDA, or earnings before interest, taxes, depreciation, and amortization"
   ]
  },
  {
   "cell_type": "code",
   "execution_count": 58,
   "metadata": {
    "colab": {
     "base_uri": "https://localhost:8080/"
    },
    "executionInfo": {
     "elapsed": 7,
     "status": "ok",
     "timestamp": 1623599893780,
     "user": {
      "displayName": "Clash Clans",
      "photoUrl": "",
      "userId": "00562530571182710236"
     },
     "user_tz": -330
    },
    "id": "TkphzXaPvm-H",
    "outputId": "b1c5cdbd-4856-42d3-d4fa-2946be0d15fb"
   },
   "outputs": [
    {
     "data": {
      "text/plain": [
       "Index(['Symbol', 'Name', 'Sector', 'Price', 'Price/Earnings', 'Dividend Yield',\n",
       "       'Earnings/Share', '52 Week Low', '52 Week High', 'Market Cap', 'EBITDA',\n",
       "       'Price/Sales', 'Price/Book', 'SEC Filings'],\n",
       "      dtype='object')"
      ]
     },
     "execution_count": 58,
     "metadata": {
      "tags": []
     },
     "output_type": "execute_result"
    }
   ],
   "source": [
    "snp_500.columns"
   ]
  },
  {
   "cell_type": "code",
   "execution_count": 59,
   "metadata": {
    "colab": {
     "base_uri": "https://localhost:8080/",
     "height": 143
    },
    "executionInfo": {
     "elapsed": 12,
     "status": "ok",
     "timestamp": 1623599895320,
     "user": {
      "displayName": "Clash Clans",
      "photoUrl": "",
      "userId": "00562530571182710236"
     },
     "user_tz": -330
    },
    "id": "RtB3k2MLuS_Y",
    "outputId": "bd0bf2e8-10cc-4b9d-e7e0-2a5018a1bb6c"
   },
   "outputs": [
    {
     "data": {
      "text/html": [
       "<div>\n",
       "<style scoped>\n",
       "    .dataframe tbody tr th:only-of-type {\n",
       "        vertical-align: middle;\n",
       "    }\n",
       "\n",
       "    .dataframe tbody tr th {\n",
       "        vertical-align: top;\n",
       "    }\n",
       "\n",
       "    .dataframe thead th {\n",
       "        text-align: right;\n",
       "    }\n",
       "</style>\n",
       "<table border=\"1\" class=\"dataframe\">\n",
       "  <thead>\n",
       "    <tr style=\"text-align: right;\">\n",
       "      <th></th>\n",
       "      <th>symbol</th>\n",
       "      <th>sector</th>\n",
       "      <th>price</th>\n",
       "      <th>profit</th>\n",
       "      <th>divident</th>\n",
       "      <th>earning_share</th>\n",
       "      <th>low</th>\n",
       "      <th>high</th>\n",
       "      <th>market_cap</th>\n",
       "      <th>ebitda</th>\n",
       "      <th>price_sales</th>\n",
       "      <th>book_price</th>\n",
       "    </tr>\n",
       "  </thead>\n",
       "  <tbody>\n",
       "    <tr>\n",
       "      <th>0</th>\n",
       "      <td>MMM</td>\n",
       "      <td>Industrials</td>\n",
       "      <td>222.89</td>\n",
       "      <td>24.31</td>\n",
       "      <td>2.332862</td>\n",
       "      <td>7.92</td>\n",
       "      <td>259.77</td>\n",
       "      <td>175.490</td>\n",
       "      <td>138721055226</td>\n",
       "      <td>9.048000e+09</td>\n",
       "      <td>4.390271</td>\n",
       "      <td>11.34</td>\n",
       "    </tr>\n",
       "    <tr>\n",
       "      <th>1</th>\n",
       "      <td>AOS</td>\n",
       "      <td>Industrials</td>\n",
       "      <td>60.24</td>\n",
       "      <td>27.76</td>\n",
       "      <td>1.147959</td>\n",
       "      <td>1.70</td>\n",
       "      <td>68.39</td>\n",
       "      <td>48.925</td>\n",
       "      <td>10783419933</td>\n",
       "      <td>6.010000e+08</td>\n",
       "      <td>3.575483</td>\n",
       "      <td>6.35</td>\n",
       "    </tr>\n",
       "    <tr>\n",
       "      <th>2</th>\n",
       "      <td>ABT</td>\n",
       "      <td>Health Care</td>\n",
       "      <td>56.27</td>\n",
       "      <td>22.51</td>\n",
       "      <td>1.908982</td>\n",
       "      <td>0.26</td>\n",
       "      <td>64.60</td>\n",
       "      <td>42.280</td>\n",
       "      <td>102121042306</td>\n",
       "      <td>5.744000e+09</td>\n",
       "      <td>3.740480</td>\n",
       "      <td>3.19</td>\n",
       "    </tr>\n",
       "  </tbody>\n",
       "</table>\n",
       "</div>"
      ],
      "text/plain": [
       "  symbol       sector   price  ...        ebitda  price_sales  book_price\n",
       "0    MMM  Industrials  222.89  ...  9.048000e+09     4.390271       11.34\n",
       "1    AOS  Industrials   60.24  ...  6.010000e+08     3.575483        6.35\n",
       "2    ABT  Health Care   56.27  ...  5.744000e+09     3.740480        3.19\n",
       "\n",
       "[3 rows x 12 columns]"
      ]
     },
     "execution_count": 59,
     "metadata": {
      "tags": []
     },
     "output_type": "execute_result"
    }
   ],
   "source": [
    "rename_dict_500={'Symbol':'symbol','Name':'name','Sector':'sector',\n",
    "                 'Price':'price','Price/Earnings':'profit','Dividend Yield':'divident',\n",
    "                 'Earnings/Share':'earning_share','52 Week Low':'low','52 Week High':'high',\n",
    "                 'Market Cap':'market_cap','EBITDA':'ebitda','Price/Sales':'price_sales',\n",
    "                 'Price/Book':'book_price','SEC Filings':'links'}\n",
    "\n",
    "# rename columns \n",
    "mdf_snp_500=snp_500.rename(columns=rename_dict_500)\n",
    "# drop - name,links\n",
    "mdf_snp_500.drop(columns=['name','links'],inplace=True)\n",
    "mdf_snp_500.head(3)"
   ]
  },
  {
   "cell_type": "code",
   "execution_count": 60,
   "metadata": {
    "colab": {
     "base_uri": "https://localhost:8080/",
     "height": 531
    },
    "executionInfo": {
     "elapsed": 1085,
     "status": "ok",
     "timestamp": 1623599897787,
     "user": {
      "displayName": "Clash Clans",
      "photoUrl": "",
      "userId": "00562530571182710236"
     },
     "user_tz": -330
    },
    "id": "daFDnVSEFHPi",
    "outputId": "762e5410-6b03-4a1c-ef0a-3c070e319041"
   },
   "outputs": [
    {
     "data": {
      "image/png": "[encoded data removed]",
      "text/plain": [
       "<Figure size 432x288 with 1 Axes>"
      ]
     },
     "metadata": {
      "needs_background": "light",
      "tags": []
     },
     "output_type": "display_data"
    },
    {
     "data": {
      "text/plain": [
       "<matplotlib.axes._subplots.AxesSubplot at 0x7fa8e757ce50>"
      ]
     },
     "execution_count": 60,
     "metadata": {
      "tags": []
     },
     "output_type": "execute_result"
    },
    {
     "data": {
      "image/png": "[encoded data removed]",
      "text/plain": [
       "<Figure size 432x288 with 1 Axes>"
      ]
     },
     "metadata": {
      "needs_background": "light",
      "tags": []
     },
     "output_type": "display_data"
    }
   ],
   "source": [
    "mdf_snp_500.high.plot(c='r')\n",
    "plt.show()\n",
    "mdf_snp_500.low.plot()"
   ]
  },
  {
   "cell_type": "code",
   "execution_count": 61,
   "metadata": {
    "colab": {
     "base_uri": "https://localhost:8080/",
     "height": 283
    },
    "executionInfo": {
     "elapsed": 641,
     "status": "ok",
     "timestamp": 1623599898414,
     "user": {
      "displayName": "Clash Clans",
      "photoUrl": "",
      "userId": "00562530571182710236"
     },
     "user_tz": -330
    },
    "id": "EWlH6ynME9-B",
    "outputId": "79bd9c8b-c711-4a6d-b06e-861316cf2158"
   },
   "outputs": [
    {
     "data": {
      "text/plain": [
       "<matplotlib.axes._subplots.AxesSubplot at 0x7fa8e74d5b90>"
      ]
     },
     "execution_count": 61,
     "metadata": {
      "tags": []
     },
     "output_type": "execute_result"
    },
    {
     "data": {
      "image/png": "[encoded data removed]",
      "text/plain": [
       "<Figure size 432x288 with 1 Axes>"
      ]
     },
     "metadata": {
      "needs_background": "light",
      "tags": []
     },
     "output_type": "display_data"
    }
   ],
   "source": [
    "mdf_snp_500.profit.plot()"
   ]
  },
  {
   "cell_type": "code",
   "execution_count": 62,
   "metadata": {
    "colab": {
     "base_uri": "https://localhost:8080/"
    },
    "executionInfo": {
     "elapsed": 9,
     "status": "ok",
     "timestamp": 1623599899309,
     "user": {
      "displayName": "Clash Clans",
      "photoUrl": "",
      "userId": "00562530571182710236"
     },
     "user_tz": -330
    },
    "id": "0kKMIyjDAsEM",
    "outputId": "fb3d506d-a675-451b-db39-852e8be1b59d"
   },
   "outputs": [
    {
     "data": {
      "text/plain": [
       "symbol           0\n",
       "sector           0\n",
       "price            0\n",
       "profit           2\n",
       "divident         0\n",
       "earning_share    0\n",
       "low              0\n",
       "high             0\n",
       "market_cap       0\n",
       "ebitda           0\n",
       "price_sales      0\n",
       "book_price       8\n",
       "dtype: int64"
      ]
     },
     "execution_count": 62,
     "metadata": {
      "tags": []
     },
     "output_type": "execute_result"
    }
   ],
   "source": [
    "mdf_snp_500.isna().sum()"
   ]
  },
  {
   "cell_type": "code",
   "execution_count": 63,
   "metadata": {
    "colab": {
     "base_uri": "https://localhost:8080/"
    },
    "executionInfo": {
     "elapsed": 392,
     "status": "ok",
     "timestamp": 1623599904108,
     "user": {
      "displayName": "Clash Clans",
      "photoUrl": "",
      "userId": "00562530571182710236"
     },
     "user_tz": -330
    },
    "id": "ZQi-P34bBIUy",
    "outputId": "98fe64c9-41b1-4521-f7d3-71eaa042fc38"
   },
   "outputs": [
    {
     "data": {
      "text/plain": [
       "(58, 12)"
      ]
     },
     "execution_count": 63,
     "metadata": {
      "tags": []
     },
     "output_type": "execute_result"
    }
   ],
   "source": [
    "mdf_snp_500[mdf_snp_500.ebitda==0].shape"
   ]
  },
  {
   "cell_type": "code",
   "execution_count": 64,
   "metadata": {
    "executionInfo": {
     "elapsed": 6,
     "status": "ok",
     "timestamp": 1623599905621,
     "user": {
      "displayName": "Clash Clans",
      "photoUrl": "",
      "userId": "00562530571182710236"
     },
     "user_tz": -330
    },
    "id": "J4bQ3T3IEr3z"
   },
   "outputs": [],
   "source": [
    "foo_sample=mdf_snp_500[(mdf_snp_500.price/mdf_snp_500.profit)>3]\n",
    "sample_data=[(foo_sample.price/foo_sample.profit)>5]"
   ]
  },
  {
   "cell_type": "code",
   "execution_count": 65,
   "metadata": {
    "colab": {
     "base_uri": "https://localhost:8080/"
    },
    "executionInfo": {
     "elapsed": 715,
     "status": "ok",
     "timestamp": 1623599917123,
     "user": {
      "displayName": "Clash Clans",
      "photoUrl": "",
      "userId": "00562530571182710236"
     },
     "user_tz": -330
    },
    "id": "iZImgkXYypKF",
    "outputId": "af6495ee-fc75-46a9-9a58-e553194daa0a"
   },
   "outputs": [
    {
     "name": "stdout",
     "output_type": "stream",
     "text": [
      "(308, 12)\n"
     ]
    }
   ],
   "source": [
    "# drop null values containing columns \n",
    "mdf_snp_500.dropna(axis=0,how='any',inplace=True)\n",
    "# select data\n",
    "sample_data=mdf_snp_500[(mdf_snp_500.price/mdf_snp_500.profit)>3]\n",
    "#sample_data=mdf_snp_500.copy()\n",
    "print(sample_data.shape)"
   ]
  },
  {
   "cell_type": "code",
   "execution_count": 66,
   "metadata": {
    "colab": {
     "base_uri": "https://localhost:8080/"
    },
    "executionInfo": {
     "elapsed": 363,
     "status": "ok",
     "timestamp": 1623599923949,
     "user": {
      "displayName": "Clash Clans",
      "photoUrl": "",
      "userId": "00562530571182710236"
     },
     "user_tz": -330
    },
    "id": "hAOFKhvpvjt0",
    "outputId": "9b024e1c-81c7-407a-afc5-f23f79678f0d"
   },
   "outputs": [
    {
     "name": "stdout",
     "output_type": "stream",
     "text": [
      "<class 'pandas.core.frame.DataFrame'>\n",
      "Int64Index: 308 entries, 0 to 502\n",
      "Data columns (total 12 columns):\n",
      " #   Column         Non-Null Count  Dtype  \n",
      "---  ------         --------------  -----  \n",
      " 0   symbol         308 non-null    object \n",
      " 1   sector         308 non-null    object \n",
      " 2   price          308 non-null    float64\n",
      " 3   profit         308 non-null    float64\n",
      " 4   divident       308 non-null    float64\n",
      " 5   earning_share  308 non-null    float64\n",
      " 6   low            308 non-null    float64\n",
      " 7   high           308 non-null    float64\n",
      " 8   market_cap     308 non-null    int64  \n",
      " 9   ebitda         308 non-null    float64\n",
      " 10  price_sales    308 non-null    float64\n",
      " 11  book_price     308 non-null    float64\n",
      "dtypes: float64(9), int64(1), object(2)\n",
      "memory usage: 31.3+ KB\n"
     ]
    }
   ],
   "source": [
    "# info\n",
    "sample_data.info()"
   ]
  },
  {
   "cell_type": "code",
   "execution_count": null,
   "metadata": {
    "id": "VVDca9odB9vu"
   },
   "outputs": [],
   "source": []
  },
  {
   "cell_type": "code",
   "execution_count": 29,
   "metadata": {
    "colab": {
     "base_uri": "https://localhost:8080/"
    },
    "executionInfo": {
     "elapsed": 21,
     "status": "ok",
     "timestamp": 1623591424039,
     "user": {
      "displayName": "Clash Clans",
      "photoUrl": "",
      "userId": "00562530571182710236"
     },
     "user_tz": -330
    },
    "id": "3o0i6SSH8ZsB",
    "outputId": "22e701db-d97b-4e22-f73a-6e660339e9ef"
   },
   "outputs": [
    {
     "data": {
      "text/plain": [
       "Consumer Discretionary        30\n",
       "Information Technology        27\n",
       "Financials                    24\n",
       "Energy                        23\n",
       "Industrials                   19\n",
       "Health Care                   14\n",
       "Utilities                     14\n",
       "Real Estate                   12\n",
       "Consumer Staples              12\n",
       "Materials                     10\n",
       "Telecommunication Services     2\n",
       "Name: sector, dtype: int64"
      ]
     },
     "execution_count": 29,
     "metadata": {
      "tags": []
     },
     "output_type": "execute_result"
    }
   ],
   "source": [
    "# count each type in sector\n",
    "sample_data.sector.value_counts()"
   ]
  },
  {
   "cell_type": "markdown",
   "metadata": {
    "id": "KMHOvaEyER_i"
   },
   "source": [
    "### prediction "
   ]
  },
  {
   "cell_type": "code",
   "execution_count": 38,
   "metadata": {
    "colab": {
     "base_uri": "https://localhost:8080/"
    },
    "executionInfo": {
     "elapsed": 374,
     "status": "ok",
     "timestamp": 1623599091116,
     "user": {
      "displayName": "Clash Clans",
      "photoUrl": "",
      "userId": "00562530571182710236"
     },
     "user_tz": -330
    },
    "id": "5R2MKGlmC5Ii",
    "outputId": "a0862c2b-d58d-4804-b7ac-e0f51882b29b"
   },
   "outputs": [
    {
     "data": {
      "text/plain": [
       "Index(['symbol', 'sector', 'price', 'profit', 'divident', 'earning_share',\n",
       "       'low', 'high', 'market_cap', 'ebitda', 'price_sales', 'book_price'],\n",
       "      dtype='object')"
      ]
     },
     "execution_count": 38,
     "metadata": {
      "tags": []
     },
     "output_type": "execute_result"
    }
   ],
   "source": [
    "mdf_snp_500.columns"
   ]
  },
  {
   "cell_type": "code",
   "execution_count": 81,
   "metadata": {
    "colab": {
     "base_uri": "https://localhost:8080/",
     "height": 1000
    },
    "executionInfo": {
     "elapsed": 398,
     "status": "error",
     "timestamp": 1623601498462,
     "user": {
      "displayName": "Clash Clans",
      "photoUrl": "",
      "userId": "00562530571182710236"
     },
     "user_tz": -330
    },
    "id": "AGEoHY6a8pRQ",
    "outputId": "fde17786-b624-493a-d780-9eb32a89c625"
   },
   "outputs": [
    {
     "ename": "ValueError",
     "evalue": "ignored",
     "output_type": "error",
     "traceback": [
      "\u001b[0;31m---------------------------------------------------------------------------\u001b[0m",
      "\u001b[0;31mValueError\u001b[0m                                Traceback (most recent call last)",
      "\u001b[0;32m<ipython-input-81-b537a3d25add>\u001b[0m in \u001b[0;36m<module>\u001b[0;34m()\u001b[0m\n\u001b[1;32m      5\u001b[0m \u001b[0;34m\u001b[0m\u001b[0m\n\u001b[1;32m      6\u001b[0m \u001b[0;31m# normalize\u001b[0m\u001b[0;34m\u001b[0m\u001b[0;34m\u001b[0m\u001b[0;34m\u001b[0m\u001b[0m\n\u001b[0;32m----> 7\u001b[0;31m \u001b[0mX_500_norm\u001b[0m\u001b[0;34m,\u001b[0m\u001b[0mnorms_of_x_500\u001b[0m\u001b[0;34m=\u001b[0m\u001b[0mnormalize\u001b[0m\u001b[0;34m(\u001b[0m\u001b[0mX_500\u001b[0m\u001b[0;34m,\u001b[0m\u001b[0mnorm\u001b[0m\u001b[0;34m=\u001b[0m\u001b[0;34m'l2'\u001b[0m\u001b[0;34m,\u001b[0m\u001b[0maxis\u001b[0m\u001b[0;34m=\u001b[0m\u001b[0;36m0\u001b[0m\u001b[0;34m,\u001b[0m\u001b[0mcopy\u001b[0m\u001b[0;34m=\u001b[0m\u001b[0;32mTrue\u001b[0m\u001b[0;34m,\u001b[0m\u001b[0mreturn_norm\u001b[0m\u001b[0;34m=\u001b[0m\u001b[0;32mTrue\u001b[0m\u001b[0;34m)\u001b[0m\u001b[0;34m\u001b[0m\u001b[0;34m\u001b[0m\u001b[0m\n\u001b[0m\u001b[1;32m      8\u001b[0m \u001b[0my_500_norm\u001b[0m\u001b[0;34m,\u001b[0m\u001b[0mnorms_of_y_500\u001b[0m\u001b[0;34m=\u001b[0m\u001b[0mnormalize\u001b[0m\u001b[0;34m(\u001b[0m\u001b[0my_500\u001b[0m\u001b[0;34m,\u001b[0m\u001b[0mnorm\u001b[0m\u001b[0;34m=\u001b[0m\u001b[0;34m'l2'\u001b[0m\u001b[0;34m,\u001b[0m\u001b[0maxis\u001b[0m\u001b[0;34m=\u001b[0m\u001b[0;36m0\u001b[0m\u001b[0;34m,\u001b[0m\u001b[0mcopy\u001b[0m\u001b[0;34m=\u001b[0m\u001b[0;32mTrue\u001b[0m\u001b[0;34m,\u001b[0m\u001b[0mreturn_norm\u001b[0m\u001b[0;34m=\u001b[0m\u001b[0;32mTrue\u001b[0m\u001b[0;34m)\u001b[0m\u001b[0;34m\u001b[0m\u001b[0;34m\u001b[0m\u001b[0m\n\u001b[1;32m      9\u001b[0m \u001b[0;34m\u001b[0m\u001b[0m\n",
      "\u001b[0;32m/usr/local/lib/python3.7/dist-packages/sklearn/preprocessing/_data.py\u001b[0m in \u001b[0;36mnormalize\u001b[0;34m(X, norm, axis, copy, return_norm)\u001b[0m\n\u001b[1;32m   1703\u001b[0m \u001b[0;34m\u001b[0m\u001b[0m\n\u001b[1;32m   1704\u001b[0m     X = check_array(X, sparse_format, copy=copy,\n\u001b[0;32m-> 1705\u001b[0;31m                     estimator='the normalize function', dtype=FLOAT_DTYPES)\n\u001b[0m\u001b[1;32m   1706\u001b[0m     \u001b[0;32mif\u001b[0m \u001b[0maxis\u001b[0m \u001b[0;34m==\u001b[0m \u001b[0;36m0\u001b[0m\u001b[0;34m:\u001b[0m\u001b[0;34m\u001b[0m\u001b[0;34m\u001b[0m\u001b[0m\n\u001b[1;32m   1707\u001b[0m         \u001b[0mX\u001b[0m \u001b[0;34m=\u001b[0m \u001b[0mX\u001b[0m\u001b[0;34m.\u001b[0m\u001b[0mT\u001b[0m\u001b[0;34m\u001b[0m\u001b[0;34m\u001b[0m\u001b[0m\n",
      "\u001b[0;32m/usr/local/lib/python3.7/dist-packages/sklearn/utils/validation.py\u001b[0m in \u001b[0;36mcheck_array\u001b[0;34m(array, accept_sparse, accept_large_sparse, dtype, order, copy, force_all_finite, ensure_2d, allow_nd, ensure_min_samples, ensure_min_features, warn_on_dtype, estimator)\u001b[0m\n\u001b[1;32m    554\u001b[0m                     \u001b[0;34m\"Reshape your data either using array.reshape(-1, 1) if \"\u001b[0m\u001b[0;34m\u001b[0m\u001b[0;34m\u001b[0m\u001b[0m\n\u001b[1;32m    555\u001b[0m                     \u001b[0;34m\"your data has a single feature or array.reshape(1, -1) \"\u001b[0m\u001b[0;34m\u001b[0m\u001b[0;34m\u001b[0m\u001b[0m\n\u001b[0;32m--> 556\u001b[0;31m                     \"if it contains a single sample.\".format(array))\n\u001b[0m\u001b[1;32m    557\u001b[0m \u001b[0;34m\u001b[0m\u001b[0m\n\u001b[1;32m    558\u001b[0m         \u001b[0;31m# in the future np.flexible dtypes will be handled like object dtypes\u001b[0m\u001b[0;34m\u001b[0m\u001b[0;34m\u001b[0m\u001b[0;34m\u001b[0m\u001b[0m\n",
      "\u001b[0;31mValueError\u001b[0m: Expected 2D array, got 1D array instead:\narray=[ 259.77    125.86    162.6     225.36    204.45    169.55    194.4\n  216.995    91.73    175.17    101.43    144.99    134.37    149.34\n  287.32     89.81    256.8     278.33    105.36   1198.     1186.89\n   77.79   1498.       59.08     78.07    102.385   155.28    183.9\n  106.27    201.23     93.62     98.38    121.71    164.9     267.95\n  152.78    180.1      60.89     70.55    125.24    797.89    199.52\n  123.67     55.99    248.3888  217.62     78.59    370.57    594.52\n  361.45     58.22    140.13     66.1     285.68    100.18     64.23\n  106.5      84.88     77.64     72.7     173.24    138.54     70.095\n  147.17    112.42    133.88    499.      157.5     227.13    136.31\n  169.96     80.7      95.      163.       79.28     98.18     89.7\n  229.5     199.88    114.97    194.18     84.      104.82    100.11\n   80.71    171.96     60.79    127.23     81.93    105.82    116.65\n   85.3     109.06    126.65    116.74     91.8     104.08     89.85\n  140.5      83.38    138.48    131.01     87.95     73.      147.02\n  495.345    70.455   270.04    138.74    277.17     66.15    161.\n   83.485    88.56     89.3     149.5     195.32    143.79    274.66\n  103.65    144.2      73.62    142.16    229.54     63.73     46.76\n  107.75     89.54    113.26    273.79     37.2     298.145    63.4\n  160.67     59.2     116.2      93.495   207.605   165.13    293.35\n  253.44    198.73    179.07    248.97     97.67     50.85    182.79\n   66.94    157.4     170.59    452.      110.67    126.49     72.18\n  143.68    148.32    117.3529  114.85     76.69    136.21    121.65\n   69.14     97.77     63.1     218.705   181.715   219.7      72.17\n   89.09     86.68    361.79    108.98    121.95    193.85     69.73\n   33.73     73.53    149.21     86.54    244.32    177.11    109.67\n  178.7     178.86     89.72     66.8      56.58    697.26     69.95\n   99.17     49.89     96.07    110.95    286.85    102.14    123.15\n  167.23     58.05    107.78     47.82     83.29    159.64     53.\n  157.1499  108.91    349.18     61.48     70.48    279.23     86.71\n   79.69    131.1316  212.8      74.84     71.57    123.55    107.47\n   92.48    160.07    119.33    122.0697  166.95   2067.99     75.585\n   94.67    127.14    232.21    157.96     85.24     69.28    112.965\n   99.1     213.45     63.6      72.05    543.5518  210.72    139.63\n  290.415   135.65    185.38     71.28     88.87     56.45    122.975\n  435.15     77.94    187.35    117.65    115.34    185.47     66.985\n  176.62    114.27     88.      170.       72.06    120.07     78.7\n  108.23    120.75     58.99    150.4     256.39    116.49    150.55\n  116.1     226.44    111.44    103.9      81.46     93.595    89.92\n   82.68     84.65     58.5     314.86     83.04    250.79    135.53\n  189.      139.24    129.74     58.73     82.95     99.95    130.29\n   72.36    118.28    100.54     54.77     46.72    126.88    111.72\n  109.98     88.       89.73    220.2      70.09     66.31     78.17\n   95.77    202.99    165.      127.96    203.63     37.42    133.49  ].\nReshape your data either using array.reshape(-1, 1) if your data has a single feature or array.reshape(1, -1) if it contains a single sample."
     ]
    }
   ],
   "source": [
    "# x-data - ['low','high','market_cap','ebitda','price_sales','book_price']\n",
    "X_500=sample_data.loc[:,mdf_snp_500.columns[-6:-4]].values \n",
    "# y-labels - ['price','profit']\n",
    "y_500=sample_data.loc[:,['price','profit']].values\n",
    "\n",
    "# normalize \n",
    "X_500_norm,norms_of_x_500=normalize(X_500,norm='l2',axis=0,copy=True,return_norm=True)\n",
    "y_500_norm,norms_of_y_500=normalize(y_500,norm='l2',axis=0,copy=True,return_norm=True)\n",
    "\n",
    "# split data \n",
    "X_train_500,X_test_500,y_train_500,y_test_500=train_test_split(X_500_norm,y_500_norm,test_size=0.10,random_state=8)\n",
    "\n",
    "X_train_500.shape,X_test_500.shape,y_train_500.shape,y_test_500.shape"
   ]
  },
  {
   "cell_type": "code",
   "execution_count": 68,
   "metadata": {
    "colab": {
     "base_uri": "https://localhost:8080/"
    },
    "executionInfo": {
     "elapsed": 385,
     "status": "ok",
     "timestamp": 1623599944849,
     "user": {
      "displayName": "Clash Clans",
      "photoUrl": "",
      "userId": "00562530571182710236"
     },
     "user_tz": -330
    },
    "id": "XASCBXxP9oMx",
    "outputId": "14f3158d-3789-49d8-8370-7e108030495b"
   },
   "outputs": [
    {
     "name": "stdout",
     "output_type": "stream",
     "text": [
      "error Gradient Boosting Regressor-outputs un-norm: [3.85639631]\n",
      "error Gradient Boosting Regressor-outputs un-norm: [0.05142563]\n"
     ]
    }
   ],
   "source": [
    "# make model - un-norm\n",
    "gboost_tree_500=GradientBoostingRegressor(learning_rate=0.05,criterion='mse',random_state=10)\n",
    "# train model \n",
    "gboost_tree_500.fit(X_train_500,y_train_500[:,1])\n",
    "print('error Gradient Boosting Regressor-outputs un-norm:',\n",
    "      mean_absolute_error(y_test_500[:,1],gboost_tree_500.predict(X_test_500),multioutput='raw_values')*norms_of_y_500[1])\n",
    "\n",
    "# scoure https://scikit-learn.org/stable/modules/generated/sklearn.metrics.mean_squared_error.html\n",
    "from sklearn.metrics import mean_squared_error\n",
    "\n",
    "print('error Gradient Boosting Regressor-outputs un-norm:',\n",
    "      mean_squared_error(y_test_500[:,1],gboost_tree_500.predict(X_test_500),multioutput='raw_values')*norms_of_y_500[1])"
   ]
  },
  {
   "cell_type": "code",
   "execution_count": null,
   "metadata": {
    "id": "D21IMjHMMJfl"
   },
   "outputs": [],
   "source": [
    "error Gradient Boosting Regressor-outputs un-norm: [3.85639631]\n",
    "error Gradient Boosting Regressor-outputs un-norm: [0.05142563]"
   ]
  },
  {
   "cell_type": "code",
   "execution_count": 69,
   "metadata": {
    "colab": {
     "base_uri": "https://localhost:8080/",
     "height": 428
    },
    "executionInfo": {
     "elapsed": 781,
     "status": "ok",
     "timestamp": 1623599956956,
     "user": {
      "displayName": "Clash Clans",
      "photoUrl": "",
      "userId": "00562530571182710236"
     },
     "user_tz": -330
    },
    "id": "EdXx8w4SAjEG",
    "outputId": "947baf73-2ebd-46bf-b548-afe0b28d41d5"
   },
   "outputs": [
    {
     "data": {
      "image/png": "[encoded data removed]",
      "text/plain": [
       "<Figure size 720x504 with 1 Axes>"
      ]
     },
     "metadata": {
      "needs_background": "light",
      "tags": []
     },
     "output_type": "display_data"
    }
   ],
   "source": [
    "# plot \n",
    "plt.figure(figsize=(10,7))\n",
    "plt.plot(range(y_test_500.shape[0]),y_test_500[:,1]*norms_of_y_500[1],marker='.',label='true')\n",
    "plt.plot(range(y_test_500.shape[0]),gboost_tree_500.predict(X_test_500)*norms_of_y_500[1],marker='.',label='Gradient Boosting')\n",
    "plt.grid(),plt.legend()\n",
    "plt.show()"
   ]
  },
  {
   "cell_type": "code",
   "execution_count": 74,
   "metadata": {
    "colab": {
     "base_uri": "https://localhost:8080/"
    },
    "executionInfo": {
     "elapsed": 379,
     "status": "ok",
     "timestamp": 1623600914304,
     "user": {
      "displayName": "Clash Clans",
      "photoUrl": "",
      "userId": "00562530571182710236"
     },
     "user_tz": -330
    },
    "id": "k8HrVP6MJIT5",
    "outputId": "e15fd4f4-1af3-489b-db52-102a40e7c40e"
   },
   "outputs": [
    {
     "data": {
      "text/plain": [
       "RFE(estimator=GradientBoostingRegressor(alpha=0.9, ccp_alpha=0.0,\n",
       "                                        criterion='friedman_mse', init=None,\n",
       "                                        learning_rate=0.1, loss='ls',\n",
       "                                        max_depth=3, max_features=None,\n",
       "                                        max_leaf_nodes=None,\n",
       "                                        min_impurity_decrease=0.0,\n",
       "                                        min_impurity_split=None,\n",
       "                                        min_samples_leaf=1, min_samples_split=2,\n",
       "                                        min_weight_fraction_leaf=0.0,\n",
       "                                        n_estimators=100, n_iter_no_change=None,\n",
       "                                        presort='deprecated', random_state=None,\n",
       "                                        subsample=1.0, tol=0.0001,\n",
       "                                        validation_fraction=0.1, verbose=0,\n",
       "                                        warm_start=False),\n",
       "    n_features_to_select=2, step=1, verbose=0)"
      ]
     },
     "execution_count": 74,
     "metadata": {
      "tags": []
     },
     "output_type": "execute_result"
    }
   ],
   "source": [
    "from sklearn.feature_selection import RFE\n",
    "\n",
    "sample_tester_rfe=GradientBoostingRegressor()\n",
    "\n",
    "f_selector=RFE(sample_tester_rfe,n_features_to_select=2,step=1)\n",
    "\n",
    "f_selector.fit(X_500_4_cv,y_500_4_cv[:,1])"
   ]
  },
  {
   "cell_type": "code",
   "execution_count": 75,
   "metadata": {
    "colab": {
     "base_uri": "https://localhost:8080/"
    },
    "executionInfo": {
     "elapsed": 375,
     "status": "ok",
     "timestamp": 1623600938290,
     "user": {
      "displayName": "Clash Clans",
      "photoUrl": "",
      "userId": "00562530571182710236"
     },
     "user_tz": -330
    },
    "id": "65GEQl0MJ_Aq",
    "outputId": "eb63076b-a0c4-46de-b301-d4302610abcd"
   },
   "outputs": [
    {
     "data": {
      "text/plain": [
       "2"
      ]
     },
     "execution_count": 75,
     "metadata": {
      "tags": []
     },
     "output_type": "execute_result"
    }
   ],
   "source": [
    "f_selector.n_features_to_select"
   ]
  },
  {
   "cell_type": "code",
   "execution_count": 76,
   "metadata": {
    "colab": {
     "base_uri": "https://localhost:8080/"
    },
    "executionInfo": {
     "elapsed": 380,
     "status": "ok",
     "timestamp": 1623600955983,
     "user": {
      "displayName": "Clash Clans",
      "photoUrl": "",
      "userId": "00562530571182710236"
     },
     "user_tz": -330
    },
    "id": "6E_wl7isKEro",
    "outputId": "aaaf6c8c-b975-42b7-8d95-0917b444dcd9"
   },
   "outputs": [
    {
     "data": {
      "text/plain": [
       "array([ True, False, False, False, False,  True])"
      ]
     },
     "execution_count": 76,
     "metadata": {
      "tags": []
     },
     "output_type": "execute_result"
    }
   ],
   "source": [
    "f_selector.support_"
   ]
  },
  {
   "cell_type": "code",
   "execution_count": 77,
   "metadata": {
    "colab": {
     "base_uri": "https://localhost:8080/"
    },
    "executionInfo": {
     "elapsed": 368,
     "status": "ok",
     "timestamp": 1623601006801,
     "user": {
      "displayName": "Clash Clans",
      "photoUrl": "",
      "userId": "00562530571182710236"
     },
     "user_tz": -330
    },
    "id": "PtDQcm3cKRk3",
    "outputId": "fbc383bf-b353-4b44-d865-d98eee795749"
   },
   "outputs": [
    {
     "data": {
      "text/plain": [
       "array([1, 3, 4, 5, 2, 1])"
      ]
     },
     "execution_count": 77,
     "metadata": {
      "tags": []
     },
     "output_type": "execute_result"
    }
   ],
   "source": [
    "f_selector.ranking_"
   ]
  },
  {
   "cell_type": "markdown",
   "metadata": {
    "id": "JWxJfBm2Wo4m"
   },
   "source": [
    "### super test model "
   ]
  },
  {
   "cell_type": "code",
   "execution_count": 71,
   "metadata": {
    "executionInfo": {
     "elapsed": 391,
     "status": "ok",
     "timestamp": 1623600832380,
     "user": {
      "displayName": "Clash Clans",
      "photoUrl": "",
      "userId": "00562530571182710236"
     },
     "user_tz": -330
    },
    "id": "MYg7oO1DgKwv"
   },
   "outputs": [],
   "source": [
    "# x-data - ['low','high','market_cap','ebitda','price_sales','book_price']\n",
    "X_500=sample_data.loc[:,mdf_snp_500.columns[-6:]].values \n",
    "# y-labels - ['price','profit']\n",
    "y_500=sample_data.loc[:,['price','profit']].values\n",
    "\n",
    "# normalize \n",
    "X_500_4_cv,norms_of_x_500=normalize(X_500,norm='l2',axis=0,copy=True,return_norm=True)\n",
    "y_500_4_cv,norms_of_y_500=normalize(y_500,norm='l2',axis=0,copy=True,return_norm=True)"
   ]
  },
  {
   "cell_type": "code",
   "execution_count": 82,
   "metadata": {
    "colab": {
     "base_uri": "https://localhost:8080/"
    },
    "executionInfo": {
     "elapsed": 6550,
     "status": "ok",
     "timestamp": 1623601705829,
     "user": {
      "displayName": "Clash Clans",
      "photoUrl": "",
      "userId": "00562530571182710236"
     },
     "user_tz": -330
    },
    "id": "tuiaE7AnWrfE",
    "outputId": "4fbbb2bb-7c29-4fcc-9371-a3de178a1b0f"
   },
   "outputs": [
    {
     "name": "stdout",
     "output_type": "stream",
     "text": [
      "Fitting 5 folds for each of 6 candidates, totalling 30 fits\n"
     ]
    },
    {
     "name": "stderr",
     "output_type": "stream",
     "text": [
      "[Parallel(n_jobs=1)]: Using backend SequentialBackend with 1 concurrent workers.\n",
      "[Parallel(n_jobs=1)]: Done  30 out of  30 | elapsed:    5.7s finished\n"
     ]
    },
    {
     "data": {
      "text/plain": [
       "GridSearchCV(cv=KFold(n_splits=5, random_state=100, shuffle=True),\n",
       "             error_score=nan,\n",
       "             estimator=RFE(estimator=GradientBoostingRegressor(alpha=0.9,\n",
       "                                                               ccp_alpha=0.0,\n",
       "                                                               criterion='mse',\n",
       "                                                               init=None,\n",
       "                                                               learning_rate=0.05,\n",
       "                                                               loss='ls',\n",
       "                                                               max_depth=3,\n",
       "                                                               max_features=None,\n",
       "                                                               max_leaf_nodes=None,\n",
       "                                                               min_impurity_decrease=0.0,\n",
       "                                                               min_impurity_split=None,\n",
       "                                                               min_samples_leaf=1,\n",
       "                                                               min_samples_split=2,\n",
       "                                                               mi...\n",
       "                                                               n_estimators=100,\n",
       "                                                               n_iter_no_change=None,\n",
       "                                                               presort='deprecated',\n",
       "                                                               random_state=None,\n",
       "                                                               subsample=1.0,\n",
       "                                                               tol=0.0001,\n",
       "                                                               validation_fraction=0.1,\n",
       "                                                               verbose=0,\n",
       "                                                               warm_start=False),\n",
       "                           n_features_to_select=None, step=1, verbose=0),\n",
       "             iid='deprecated', n_jobs=None,\n",
       "             param_grid=[{'n_features_to_select': [1, 2, 3, 4, 5, 6]}],\n",
       "             pre_dispatch='2*n_jobs', refit=True, return_train_score=True,\n",
       "             scoring='r2', verbose=1)"
      ]
     },
     "execution_count": 82,
     "metadata": {
      "tags": []
     },
     "output_type": "execute_result"
    }
   ],
   "source": [
    "# source - https://scikit-learn.org/stable/modules/generated/sklearn.model_selection.cross_validate.html\n",
    "# source - https://scikit-learn.org/stable/modules/generated/sklearn.model_selection.KFold.html\n",
    "# source - https://scikit-learn.org/stable/modules/generated/sklearn.model_selection.GridSearchCV.html\n",
    "from sklearn.model_selection import cross_validate,KFold,GridSearchCV\n",
    "# source - https://scikit-learn.org/stable/modules/generated/sklearn.feature_selection.RFE.html\n",
    "from sklearn.feature_selection import RFE\n",
    "\n",
    "\n",
    "# creating a KFold object with 5 splits \n",
    "folds = KFold(n_splits = 5, shuffle = True, random_state = 100)\n",
    "\n",
    "# specify range of hyperparameters\n",
    "hyper_params = [{'n_features_to_select': list(range(1, 7))}]\n",
    " \n",
    "\n",
    "# Test classifier - GradientBoostingRegressor\n",
    "test_clf_GradientBoostingRegressor=GradientBoostingRegressor(learning_rate=0.05,criterion='mse')\n",
    "test_clf_GradientBoostingRegressor.fit(X_500_4_cv,y_500_4_cv[:,1])\n",
    "\n",
    "# set up GridSearchCV()\n",
    "model_f_select = GridSearchCV(estimator = RFE(test_clf_GradientBoostingRegressor),param_grid = hyper_params, \n",
    "                              scoring= 'r2', cv = folds, verbose = 1, return_train_score=True) \n",
    "\n",
    "# fit the model\n",
    "model_f_select.fit(X_500_4_cv,y_500_4_cv[:,1])                  "
   ]
  },
  {
   "cell_type": "code",
   "execution_count": 79,
   "metadata": {
    "colab": {
     "base_uri": "https://localhost:8080/",
     "height": 360
    },
    "executionInfo": {
     "elapsed": 388,
     "status": "ok",
     "timestamp": 1623601200924,
     "user": {
      "displayName": "Clash Clans",
      "photoUrl": "",
      "userId": "00562530571182710236"
     },
     "user_tz": -330
    },
    "id": "LV5p25uKdy23",
    "outputId": "f36b3c70-ab7a-4108-a0fc-fdda6dd16278"
   },
   "outputs": [
    {
     "data": {
      "text/html": [
       "<div>\n",
       "<style scoped>\n",
       "    .dataframe tbody tr th:only-of-type {\n",
       "        vertical-align: middle;\n",
       "    }\n",
       "\n",
       "    .dataframe tbody tr th {\n",
       "        vertical-align: top;\n",
       "    }\n",
       "\n",
       "    .dataframe thead th {\n",
       "        text-align: right;\n",
       "    }\n",
       "</style>\n",
       "<table border=\"1\" class=\"dataframe\">\n",
       "  <thead>\n",
       "    <tr style=\"text-align: right;\">\n",
       "      <th></th>\n",
       "      <th>mean_fit_time</th>\n",
       "      <th>std_fit_time</th>\n",
       "      <th>mean_score_time</th>\n",
       "      <th>std_score_time</th>\n",
       "      <th>param_n_features_to_select</th>\n",
       "      <th>params</th>\n",
       "      <th>split0_test_score</th>\n",
       "      <th>split1_test_score</th>\n",
       "      <th>split2_test_score</th>\n",
       "      <th>split3_test_score</th>\n",
       "      <th>split4_test_score</th>\n",
       "      <th>mean_test_score</th>\n",
       "      <th>std_test_score</th>\n",
       "      <th>rank_test_score</th>\n",
       "      <th>split0_train_score</th>\n",
       "      <th>split1_train_score</th>\n",
       "      <th>split2_train_score</th>\n",
       "      <th>split3_train_score</th>\n",
       "      <th>split4_train_score</th>\n",
       "      <th>mean_train_score</th>\n",
       "      <th>std_train_score</th>\n",
       "    </tr>\n",
       "  </thead>\n",
       "  <tbody>\n",
       "    <tr>\n",
       "      <th>0</th>\n",
       "      <td>0.295832</td>\n",
       "      <td>0.005743</td>\n",
       "      <td>0.000925</td>\n",
       "      <td>0.000125</td>\n",
       "      <td>1</td>\n",
       "      <td>{'n_features_to_select': 1}</td>\n",
       "      <td>0.247774</td>\n",
       "      <td>-34.227304</td>\n",
       "      <td>0.028676</td>\n",
       "      <td>0.269344</td>\n",
       "      <td>0.146884</td>\n",
       "      <td>-6.706925</td>\n",
       "      <td>13.760454</td>\n",
       "      <td>1</td>\n",
       "      <td>0.916926</td>\n",
       "      <td>0.922350</td>\n",
       "      <td>0.636357</td>\n",
       "      <td>0.923640</td>\n",
       "      <td>0.937469</td>\n",
       "      <td>0.867348</td>\n",
       "      <td>0.115694</td>\n",
       "    </tr>\n",
       "    <tr>\n",
       "      <th>1</th>\n",
       "      <td>0.257778</td>\n",
       "      <td>0.006604</td>\n",
       "      <td>0.000880</td>\n",
       "      <td>0.000167</td>\n",
       "      <td>2</td>\n",
       "      <td>{'n_features_to_select': 2}</td>\n",
       "      <td>0.482688</td>\n",
       "      <td>-45.850642</td>\n",
       "      <td>0.052856</td>\n",
       "      <td>0.261039</td>\n",
       "      <td>0.137120</td>\n",
       "      <td>-8.983388</td>\n",
       "      <td>18.434195</td>\n",
       "      <td>6</td>\n",
       "      <td>0.943579</td>\n",
       "      <td>0.930349</td>\n",
       "      <td>0.772454</td>\n",
       "      <td>0.924944</td>\n",
       "      <td>0.941744</td>\n",
       "      <td>0.902614</td>\n",
       "      <td>0.065450</td>\n",
       "    </tr>\n",
       "    <tr>\n",
       "      <th>2</th>\n",
       "      <td>0.214136</td>\n",
       "      <td>0.002734</td>\n",
       "      <td>0.000885</td>\n",
       "      <td>0.000059</td>\n",
       "      <td>3</td>\n",
       "      <td>{'n_features_to_select': 3}</td>\n",
       "      <td>0.461016</td>\n",
       "      <td>-35.428396</td>\n",
       "      <td>0.065940</td>\n",
       "      <td>0.429331</td>\n",
       "      <td>0.339634</td>\n",
       "      <td>-6.826495</td>\n",
       "      <td>14.301627</td>\n",
       "      <td>2</td>\n",
       "      <td>0.956102</td>\n",
       "      <td>0.950393</td>\n",
       "      <td>0.794558</td>\n",
       "      <td>0.953524</td>\n",
       "      <td>0.964649</td>\n",
       "      <td>0.923845</td>\n",
       "      <td>0.064817</td>\n",
       "    </tr>\n",
       "    <tr>\n",
       "      <th>3</th>\n",
       "      <td>0.174698</td>\n",
       "      <td>0.005026</td>\n",
       "      <td>0.000841</td>\n",
       "      <td>0.000009</td>\n",
       "      <td>4</td>\n",
       "      <td>{'n_features_to_select': 4}</td>\n",
       "      <td>0.383543</td>\n",
       "      <td>-38.713781</td>\n",
       "      <td>0.040201</td>\n",
       "      <td>0.541122</td>\n",
       "      <td>0.322666</td>\n",
       "      <td>-7.485250</td>\n",
       "      <td>15.615106</td>\n",
       "      <td>4</td>\n",
       "      <td>0.957061</td>\n",
       "      <td>0.958812</td>\n",
       "      <td>0.855961</td>\n",
       "      <td>0.962217</td>\n",
       "      <td>0.967449</td>\n",
       "      <td>0.940300</td>\n",
       "      <td>0.042318</td>\n",
       "    </tr>\n",
       "    <tr>\n",
       "      <th>4</th>\n",
       "      <td>0.118561</td>\n",
       "      <td>0.003067</td>\n",
       "      <td>0.000905</td>\n",
       "      <td>0.000130</td>\n",
       "      <td>5</td>\n",
       "      <td>{'n_features_to_select': 5}</td>\n",
       "      <td>0.384337</td>\n",
       "      <td>-38.158905</td>\n",
       "      <td>0.041826</td>\n",
       "      <td>0.565559</td>\n",
       "      <td>0.338962</td>\n",
       "      <td>-7.365644</td>\n",
       "      <td>15.397550</td>\n",
       "      <td>3</td>\n",
       "      <td>0.963558</td>\n",
       "      <td>0.962127</td>\n",
       "      <td>0.858411</td>\n",
       "      <td>0.962174</td>\n",
       "      <td>0.968936</td>\n",
       "      <td>0.943041</td>\n",
       "      <td>0.042389</td>\n",
       "    </tr>\n",
       "    <tr>\n",
       "      <th>5</th>\n",
       "      <td>0.063728</td>\n",
       "      <td>0.001954</td>\n",
       "      <td>0.000839</td>\n",
       "      <td>0.000008</td>\n",
       "      <td>6</td>\n",
       "      <td>{'n_features_to_select': 6}</td>\n",
       "      <td>0.416885</td>\n",
       "      <td>-40.327289</td>\n",
       "      <td>0.058907</td>\n",
       "      <td>0.595592</td>\n",
       "      <td>0.380447</td>\n",
       "      <td>-7.775092</td>\n",
       "      <td>16.277019</td>\n",
       "      <td>5</td>\n",
       "      <td>0.963980</td>\n",
       "      <td>0.962611</td>\n",
       "      <td>0.872599</td>\n",
       "      <td>0.963535</td>\n",
       "      <td>0.969307</td>\n",
       "      <td>0.946406</td>\n",
       "      <td>0.036978</td>\n",
       "    </tr>\n",
       "  </tbody>\n",
       "</table>\n",
       "</div>"
      ],
      "text/plain": [
       "   mean_fit_time  std_fit_time  ...  mean_train_score  std_train_score\n",
       "0       0.295832      0.005743  ...          0.867348         0.115694\n",
       "1       0.257778      0.006604  ...          0.902614         0.065450\n",
       "2       0.214136      0.002734  ...          0.923845         0.064817\n",
       "3       0.174698      0.005026  ...          0.940300         0.042318\n",
       "4       0.118561      0.003067  ...          0.943041         0.042389\n",
       "5       0.063728      0.001954  ...          0.946406         0.036978\n",
       "\n",
       "[6 rows x 21 columns]"
      ]
     },
     "execution_count": 79,
     "metadata": {
      "tags": []
     },
     "output_type": "execute_result"
    }
   ],
   "source": [
    "# cv results\n",
    "results_ = pd.DataFrame(model_f_select.cv_results_)\n",
    "results_"
   ]
  },
  {
   "cell_type": "code",
   "execution_count": 80,
   "metadata": {
    "colab": {
     "base_uri": "https://localhost:8080/",
     "height": 422
    },
    "executionInfo": {
     "elapsed": 469,
     "status": "ok",
     "timestamp": 1623601301670,
     "user": {
      "displayName": "Clash Clans",
      "photoUrl": "",
      "userId": "00562530571182710236"
     },
     "user_tz": -330
    },
    "id": "cfr-xM8oiHgu",
    "outputId": "5f149648-2ecb-4f79-ff6a-7e537e733cb9"
   },
   "outputs": [
    {
     "data": {
      "text/plain": [
       "<matplotlib.legend.Legend at 0x7fa8e79e9090>"
      ]
     },
     "execution_count": 80,
     "metadata": {
      "tags": []
     },
     "output_type": "execute_result"
    },
    {
     "data": {
      "image/png": "[encoded data removed]",
      "text/plain": [
       "<Figure size 1152x432 with 1 Axes>"
      ]
     },
     "metadata": {
      "needs_background": "light",
      "tags": []
     },
     "output_type": "display_data"
    }
   ],
   "source": [
    "# plotting cv results\n",
    "plt.figure(figsize=(16,6))\n",
    "\n",
    "plt.plot(results_[\"param_n_features_to_select\"], results_[\"mean_test_score\"])\n",
    "plt.plot(results_[\"param_n_features_to_select\"], results_[\"mean_train_score\"])\n",
    "plt.xlabel('number of features')\n",
    "plt.ylabel('r-squared')\n",
    "plt.title(\"Optimal Number of Features\")\n",
    "plt.legend(['test score', 'train score'], loc='upper left')"
   ]
  },
  {
   "cell_type": "code",
   "execution_count": 83,
   "metadata": {
    "executionInfo": {
     "elapsed": 378,
     "status": "ok",
     "timestamp": 1623601863412,
     "user": {
      "displayName": "Clash Clans",
      "photoUrl": "",
      "userId": "00562530571182710236"
     },
     "user_tz": -330
    },
    "id": "1hbGD2t8LcRX"
   },
   "outputs": [],
   "source": [
    "import seaborn "
   ]
  },
  {
   "cell_type": "code",
   "execution_count": 85,
   "metadata": {
    "executionInfo": {
     "elapsed": 375,
     "status": "ok",
     "timestamp": 1623601919449,
     "user": {
      "displayName": "Clash Clans",
      "photoUrl": "",
      "userId": "00562530571182710236"
     },
     "user_tz": -330
    },
    "id": "PmeNzoCTNlRw"
   },
   "outputs": [],
   "source": [
    "d = seaborn.load_dataset('iris')"
   ]
  },
  {
   "cell_type": "code",
   "execution_count": 88,
   "metadata": {
    "colab": {
     "base_uri": "https://localhost:8080/"
    },
    "executionInfo": {
     "elapsed": 376,
     "status": "ok",
     "timestamp": 1623602023384,
     "user": {
      "displayName": "Clash Clans",
      "photoUrl": "",
      "userId": "00562530571182710236"
     },
     "user_tz": -330
    },
    "id": "5bJ7ZqNlOLRk",
    "outputId": "d1340064-9b12-4722-8838-5c662cab609d"
   },
   "outputs": [
    {
     "data": {
      "text/plain": [
       "Index(['sepal_length', 'sepal_width', 'petal_length', 'petal_width',\n",
       "       'species'],\n",
       "      dtype='object')"
      ]
     },
     "execution_count": 88,
     "metadata": {
      "tags": []
     },
     "output_type": "execute_result"
    }
   ],
   "source": [
    "d.columns"
   ]
  },
  {
   "cell_type": "code",
   "execution_count": 89,
   "metadata": {
    "colab": {
     "base_uri": "https://localhost:8080/",
     "height": 745
    },
    "executionInfo": {
     "elapsed": 9143,
     "status": "ok",
     "timestamp": 1623602040019,
     "user": {
      "displayName": "Clash Clans",
      "photoUrl": "",
      "userId": "00562530571182710236"
     },
     "user_tz": -330
    },
    "id": "v5HUM_uQNxHN",
    "outputId": "e21bbfb3-3560-4f4a-9040-44886b574098"
   },
   "outputs": [
    {
     "data": {
      "text/plain": [
       "<seaborn.axisgrid.PairGrid at 0x7fa8ddc13b10>"
      ]
     },
     "execution_count": 89,
     "metadata": {
      "tags": []
     },
     "output_type": "execute_result"
    },
    {
     "data": {
      "image/png": "[encoded data removed]",
      "text/plain": [
       "<Figure size 804.75x720 with 20 Axes>"
      ]
     },
     "metadata": {
      "needs_background": "light",
      "tags": []
     },
     "output_type": "display_data"
    }
   ],
   "source": [
    "seaborn.pairplot(d,hue='species')"
   ]
  },
  {
   "cell_type": "code",
   "execution_count": null,
   "metadata": {
    "id": "5c1UrasCN0ft"
   },
   "outputs": [],
   "source": []
  }
 ],
 "metadata": {
  "colab": {
   "authorship_tag": "ABX9TyPD3VREJD99fvEDUn7D3/Cv",
   "collapsed_sections": [
    "6NBesjUxPGU-",
    "mTO6DRftgMkn",
    "LbYmEGvJg3Hh",
    "d32NCvvNlgsM",
    "MRewQS2esfji",
    "ZFj9K03PUrCI",
    "m78rj2GHxwl5",
    "Lkm9dwYc3bYe",
    "932uJFDR4G0Q",
    "U8VQKxJ35aQZ",
    "oO-Rq4RY_s29",
    "MIf7TykPXRVE",
    "gj6VJY2mp4R0",
    "eVv50QDubB5c",
    "JRpcnAz2ejh5"
   ],
   "name": "day_2.ipynb",
   "provenance": []
  },
  "kernelspec": {
   "display_name": "Python 3 (ipykernel)",
   "language": "python",
   "name": "python3"
  },
  "language_info": {
   "codemirror_mode": {
    "name": "ipython",
    "version": 3
   },
   "file_extension": ".py",
   "mimetype": "text/x-python",
   "name": "python",
   "nbconvert_exporter": "python",
   "pygments_lexer": "ipython3",
   "version": "3.10.5"
  }
 },
 "nbformat": 4,
 "nbformat_minor": 1
}
